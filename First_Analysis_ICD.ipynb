{
  "cells": [
    {
      "cell_type": "code",
      "execution_count": 14,
      "metadata": {
        "id": "qxmdvtfERlfj"
      },
      "outputs": [],
      "source": [
        "import pandas as pd\n",
        "import numpy as np\n",
        "import matplotlib.pyplot as plt\n",
        "import seaborn as sns"
      ]
    },
    {
      "attachments": {},
      "cell_type": "markdown",
      "metadata": {
        "id": "I3t64nDuVsGj"
      },
      "source": [
        "#Reading the Databases\n",
        "\n",
        "We will use five datas frames with the reference years between 2017 and 2021. In the initial analyses, we noticed some differences in the number of questions that were used to collect data from the samples. In order to work with consistent data for the comparison of the previous period and the event of the Covid-19 pandemic, the common issues were filtered to continue the other procedures\n"
      ]
    },
    {
      "cell_type": "code",
      "execution_count": 15,
      "metadata": {
        "colab": {
          "base_uri": "https://localhost:8080/",
          "height": 380
        },
        "id": "-_fiuy0sVdTs",
        "outputId": "c72963a3-0391-4048-ca52-cd38b742b5df"
      },
      "outputs": [],
      "source": [
        "df_2017 = pd.read_csv('DataFrames/OSMI_2017_Mental_Health_in_Tech_Survey.csv') \n",
        "df_2018 = pd.read_csv('DataFrames/OSMI_2018_Mental_Health_in_Tech_Survey.csv') \n",
        "df_2019 = pd.read_csv('DataFrames/OSMI_2019_Mental_Health_in_Tech_Survey.csv') \n",
        "df_2020 = pd.read_csv('DataFrames/OSMI_2020_Mental_Health_in_Tech_Survey.csv') \n",
        "df_2021 = pd.read_csv('DataFrames/OSMI_2021_Mental_Health_in_Tech_Survey.csv') \n"
      ]
    },
    {
      "cell_type": "code",
      "execution_count": 16,
      "metadata": {
        "id": "0wtp8SYtXBql"
      },
      "outputs": [
        {
          "name": "stdout",
          "output_type": "stream",
          "text": [
            "In the 2017 DF, the total number of responses were: 756 .And the number of questions: 123\n",
            "In the 2018 DF, the total number of responses were: 417 .And the number of questions: 123\n",
            "In the 2019 DF, the total number of responses were: 352 .And the number of questions: 82\n",
            "In the 2020 DF, the total number of responses were: 180 .And the number of questions: 120\n",
            "In the 2021 DF, the total number of responses were: 131 .And the number of questions: 124\n"
          ]
        }
      ],
      "source": [
        "print(\"In the 2017 DF, the total number of responses were:\", df_2017.shape[0],\".And the number of questions:\",df_2017.shape[1])\n",
        "print(\"In the 2018 DF, the total number of responses were:\", df_2018.shape[0],\".And the number of questions:\",df_2018.shape[1])\n",
        "print(\"In the 2019 DF, the total number of responses were:\", df_2019.shape[0],\".And the number of questions:\",df_2019.shape[1])\n",
        "print(\"In the 2020 DF, the total number of responses were:\", df_2020.shape[0],\".And the number of questions:\",df_2020.shape[1])\n",
        "print(\"In the 2021 DF, the total number of responses were:\", df_2021.shape[0],\".And the number of questions:\",df_2021.shape[1])"
      ]
    },
    {
      "cell_type": "code",
      "execution_count": 17,
      "metadata": {
        "id": "mZIBwzCBazKa"
      },
      "outputs": [
        {
          "name": "stdout",
          "output_type": "stream",
          "text": [
            "Index(['#', '<strong>Are you self-employed?</strong>',\n",
            "       'How many employees does your company or organization have?',\n",
            "       'Is your employer primarily a tech company/organization?',\n",
            "       'Is your primary role within your company related to tech/IT?',\n",
            "       'Does your employer provide mental health benefits as part of healthcare coverage?',\n",
            "       'Do you know the options for mental health care available under your employer-provided health coverage?',\n",
            "       'Has your employer ever formally discussed mental health (for example, as part of a wellness campaign or other official communication)?',\n",
            "       'Does your employer offer resources to learn more about mental health disorders and options for seeking help?',\n",
            "       'Is your anonymity protected if you choose to take advantage of mental health or substance abuse treatment resources provided by your employer?',\n",
            "       ...\n",
            "       'What is your gender?', 'What country do you <strong>live</strong> in?',\n",
            "       'What US state or territory do you <strong>live</strong> in?',\n",
            "       'What is your race?', 'Other.3',\n",
            "       'What country do you <strong>work</strong> in?',\n",
            "       'What US state or territory do you <strong>work</strong> in?',\n",
            "       'Start Date (UTC)', 'Submit Date (UTC)', 'Network ID'],\n",
            "      dtype='object', length=123)\n"
          ]
        }
      ],
      "source": [
        "all_columns_no_filter = df_2017.columns\n",
        "print(all_columns_no_filter)\n"
      ]
    },
    {
      "cell_type": "code",
      "execution_count": 18,
      "metadata": {
        "id": "aPmvot2MbF0P"
      },
      "outputs": [
        {
          "data": {
            "text/html": [
              "<div>\n",
              "<style scoped>\n",
              "    .dataframe tbody tr th:only-of-type {\n",
              "        vertical-align: middle;\n",
              "    }\n",
              "\n",
              "    .dataframe tbody tr th {\n",
              "        vertical-align: top;\n",
              "    }\n",
              "\n",
              "    .dataframe thead th {\n",
              "        text-align: right;\n",
              "    }\n",
              "</style>\n",
              "<table border=\"1\" class=\"dataframe\">\n",
              "  <thead>\n",
              "    <tr style=\"text-align: right;\">\n",
              "      <th></th>\n",
              "      <th>#</th>\n",
              "      <th>&lt;strong&gt;Are you self-employed?&lt;/strong&gt;</th>\n",
              "      <th>How many employees does your company or organization have?</th>\n",
              "      <th>Is your employer primarily a tech company/organization?</th>\n",
              "      <th>Is your primary role within your company related to tech/IT?</th>\n",
              "      <th>Does your employer provide mental health benefits as part of healthcare coverage?</th>\n",
              "      <th>Do you know the options for mental health care available under your employer-provided health coverage?</th>\n",
              "      <th>Has your employer ever formally discussed mental health (for example, as part of a wellness campaign or other official communication)?</th>\n",
              "      <th>Does your employer offer resources to learn more about mental health disorders and options for seeking help?</th>\n",
              "      <th>Is your anonymity protected if you choose to take advantage of mental health or substance abuse treatment resources provided by your employer?</th>\n",
              "      <th>...</th>\n",
              "      <th>What is your gender?</th>\n",
              "      <th>What country do you &lt;strong&gt;live&lt;/strong&gt; in?</th>\n",
              "      <th>What US state or territory do you &lt;strong&gt;live&lt;/strong&gt; in?</th>\n",
              "      <th>What is your race?</th>\n",
              "      <th>Other.3</th>\n",
              "      <th>What country do you &lt;strong&gt;work&lt;/strong&gt; in?</th>\n",
              "      <th>What US state or territory do you &lt;strong&gt;work&lt;/strong&gt; in?</th>\n",
              "      <th>Start Date (UTC)</th>\n",
              "      <th>Submit Date (UTC)</th>\n",
              "      <th>Network ID</th>\n",
              "    </tr>\n",
              "  </thead>\n",
              "  <tbody>\n",
              "    <tr>\n",
              "      <th>0</th>\n",
              "      <td>e49fe87572831232dcfa51b376b22039</td>\n",
              "      <td>0</td>\n",
              "      <td>100-500</td>\n",
              "      <td>1.0</td>\n",
              "      <td>1.0</td>\n",
              "      <td>No</td>\n",
              "      <td>Yes</td>\n",
              "      <td>No</td>\n",
              "      <td>I don't know</td>\n",
              "      <td>I don't know</td>\n",
              "      <td>...</td>\n",
              "      <td>Female</td>\n",
              "      <td>United Kingdom</td>\n",
              "      <td>NaN</td>\n",
              "      <td>NaN</td>\n",
              "      <td>NaN</td>\n",
              "      <td>United Kingdom</td>\n",
              "      <td>NaN</td>\n",
              "      <td>2018-05-16 12:32:04</td>\n",
              "      <td>2018-05-16 12:42:40</td>\n",
              "      <td>464b7a12f1</td>\n",
              "    </tr>\n",
              "    <tr>\n",
              "      <th>1</th>\n",
              "      <td>a1eede444ac024928d247a8372d54931</td>\n",
              "      <td>0</td>\n",
              "      <td>100-500</td>\n",
              "      <td>1.0</td>\n",
              "      <td>1.0</td>\n",
              "      <td>Yes</td>\n",
              "      <td>Yes</td>\n",
              "      <td>No</td>\n",
              "      <td>No</td>\n",
              "      <td>I don't know</td>\n",
              "      <td>...</td>\n",
              "      <td>male</td>\n",
              "      <td>United Kingdom</td>\n",
              "      <td>NaN</td>\n",
              "      <td>NaN</td>\n",
              "      <td>NaN</td>\n",
              "      <td>United Kingdom</td>\n",
              "      <td>NaN</td>\n",
              "      <td>2018-05-16 12:31:13</td>\n",
              "      <td>2018-05-16 12:40:40</td>\n",
              "      <td>464b7a12f1</td>\n",
              "    </tr>\n",
              "    <tr>\n",
              "      <th>2</th>\n",
              "      <td>37d3fd67f62bd1e0a2dea4f9cd440d98</td>\n",
              "      <td>0</td>\n",
              "      <td>6-25</td>\n",
              "      <td>1.0</td>\n",
              "      <td>1.0</td>\n",
              "      <td>I don't know</td>\n",
              "      <td>No</td>\n",
              "      <td>I don't know</td>\n",
              "      <td>No</td>\n",
              "      <td>Yes</td>\n",
              "      <td>...</td>\n",
              "      <td>male</td>\n",
              "      <td>United States of America</td>\n",
              "      <td>Missouri</td>\n",
              "      <td>White</td>\n",
              "      <td>NaN</td>\n",
              "      <td>United States of America</td>\n",
              "      <td>Missouri</td>\n",
              "      <td>2018-05-09 05:34:05</td>\n",
              "      <td>2018-05-09 05:46:04</td>\n",
              "      <td>1eb7e0cb94</td>\n",
              "    </tr>\n",
              "    <tr>\n",
              "      <th>3</th>\n",
              "      <td>519b759442c1cab0e9b5a8a1acb1b216</td>\n",
              "      <td>0</td>\n",
              "      <td>More than 1000</td>\n",
              "      <td>1.0</td>\n",
              "      <td>1.0</td>\n",
              "      <td>Yes</td>\n",
              "      <td>Yes</td>\n",
              "      <td>I don't know</td>\n",
              "      <td>I don't know</td>\n",
              "      <td>Yes</td>\n",
              "      <td>...</td>\n",
              "      <td>Male</td>\n",
              "      <td>United States of America</td>\n",
              "      <td>Washington</td>\n",
              "      <td>White</td>\n",
              "      <td>NaN</td>\n",
              "      <td>United States of America</td>\n",
              "      <td>Washington</td>\n",
              "      <td>2018-05-04 23:19:14</td>\n",
              "      <td>2018-05-04 23:23:23</td>\n",
              "      <td>63852edbc4</td>\n",
              "    </tr>\n",
              "    <tr>\n",
              "      <th>4</th>\n",
              "      <td>ef0af4927b575b1a3e607c11ca37870e</td>\n",
              "      <td>1</td>\n",
              "      <td>NaN</td>\n",
              "      <td>NaN</td>\n",
              "      <td>NaN</td>\n",
              "      <td>NaN</td>\n",
              "      <td>NaN</td>\n",
              "      <td>NaN</td>\n",
              "      <td>NaN</td>\n",
              "      <td>NaN</td>\n",
              "      <td>...</td>\n",
              "      <td>female</td>\n",
              "      <td>United States of America</td>\n",
              "      <td>Illinois</td>\n",
              "      <td>More than one of the above</td>\n",
              "      <td>NaN</td>\n",
              "      <td>United States of America</td>\n",
              "      <td>Illinois</td>\n",
              "      <td>2018-05-03 00:40:24</td>\n",
              "      <td>2018-05-03 00:53:20</td>\n",
              "      <td>43237889f1</td>\n",
              "    </tr>\n",
              "  </tbody>\n",
              "</table>\n",
              "<p>5 rows × 123 columns</p>\n",
              "</div>"
            ],
            "text/plain": [
              "                                  #  <strong>Are you self-employed?</strong>  \\\n",
              "0  e49fe87572831232dcfa51b376b22039                                        0   \n",
              "1  a1eede444ac024928d247a8372d54931                                        0   \n",
              "2  37d3fd67f62bd1e0a2dea4f9cd440d98                                        0   \n",
              "3  519b759442c1cab0e9b5a8a1acb1b216                                        0   \n",
              "4  ef0af4927b575b1a3e607c11ca37870e                                        1   \n",
              "\n",
              "  How many employees does your company or organization have?  \\\n",
              "0                                            100-500           \n",
              "1                                            100-500           \n",
              "2                                               6-25           \n",
              "3                                     More than 1000           \n",
              "4                                                NaN           \n",
              "\n",
              "   Is your employer primarily a tech company/organization?  \\\n",
              "0                                                1.0         \n",
              "1                                                1.0         \n",
              "2                                                1.0         \n",
              "3                                                1.0         \n",
              "4                                                NaN         \n",
              "\n",
              "   Is your primary role within your company related to tech/IT?  \\\n",
              "0                                                1.0              \n",
              "1                                                1.0              \n",
              "2                                                1.0              \n",
              "3                                                1.0              \n",
              "4                                                NaN              \n",
              "\n",
              "  Does your employer provide mental health benefits as part of healthcare coverage?  \\\n",
              "0                                                 No                                  \n",
              "1                                                Yes                                  \n",
              "2                                       I don't know                                  \n",
              "3                                                Yes                                  \n",
              "4                                                NaN                                  \n",
              "\n",
              "  Do you know the options for mental health care available under your employer-provided health coverage?  \\\n",
              "0                                                Yes                                                       \n",
              "1                                                Yes                                                       \n",
              "2                                                 No                                                       \n",
              "3                                                Yes                                                       \n",
              "4                                                NaN                                                       \n",
              "\n",
              "  Has your employer ever formally discussed mental health (for example, as part of a wellness campaign or other official communication)?  \\\n",
              "0                                                 No                                                                                       \n",
              "1                                                 No                                                                                       \n",
              "2                                       I don't know                                                                                       \n",
              "3                                       I don't know                                                                                       \n",
              "4                                                NaN                                                                                       \n",
              "\n",
              "  Does your employer offer resources to learn more about mental health disorders and options for seeking help?  \\\n",
              "0                                       I don't know                                                             \n",
              "1                                                 No                                                             \n",
              "2                                                 No                                                             \n",
              "3                                       I don't know                                                             \n",
              "4                                                NaN                                                             \n",
              "\n",
              "  Is your anonymity protected if you choose to take advantage of mental health or substance abuse treatment resources provided by your employer?  \\\n",
              "0                                       I don't know                                                                                               \n",
              "1                                       I don't know                                                                                               \n",
              "2                                                Yes                                                                                               \n",
              "3                                                Yes                                                                                               \n",
              "4                                                NaN                                                                                               \n",
              "\n",
              "   ... What is your gender? What country do you <strong>live</strong> in?  \\\n",
              "0  ...               Female                                United Kingdom   \n",
              "1  ...                 male                                United Kingdom   \n",
              "2  ...                 male                      United States of America   \n",
              "3  ...                 Male                      United States of America   \n",
              "4  ...               female                      United States of America   \n",
              "\n",
              "  What US state or territory do you <strong>live</strong> in?  \\\n",
              "0                                                NaN            \n",
              "1                                                NaN            \n",
              "2                                           Missouri            \n",
              "3                                         Washington            \n",
              "4                                           Illinois            \n",
              "\n",
              "           What is your race? Other.3  \\\n",
              "0                         NaN     NaN   \n",
              "1                         NaN     NaN   \n",
              "2                       White     NaN   \n",
              "3                       White     NaN   \n",
              "4  More than one of the above     NaN   \n",
              "\n",
              "  What country do you <strong>work</strong> in?  \\\n",
              "0                                United Kingdom   \n",
              "1                                United Kingdom   \n",
              "2                      United States of America   \n",
              "3                      United States of America   \n",
              "4                      United States of America   \n",
              "\n",
              "   What US state or territory do you <strong>work</strong> in?  \\\n",
              "0                                                NaN             \n",
              "1                                                NaN             \n",
              "2                                           Missouri             \n",
              "3                                         Washington             \n",
              "4                                           Illinois             \n",
              "\n",
              "      Start Date (UTC)    Submit Date (UTC)  Network ID  \n",
              "0  2018-05-16 12:32:04  2018-05-16 12:42:40  464b7a12f1  \n",
              "1  2018-05-16 12:31:13  2018-05-16 12:40:40  464b7a12f1  \n",
              "2  2018-05-09 05:34:05  2018-05-09 05:46:04  1eb7e0cb94  \n",
              "3  2018-05-04 23:19:14  2018-05-04 23:23:23  63852edbc4  \n",
              "4  2018-05-03 00:40:24  2018-05-03 00:53:20  43237889f1  \n",
              "\n",
              "[5 rows x 123 columns]"
            ]
          },
          "execution_count": 18,
          "metadata": {},
          "output_type": "execute_result"
        }
      ],
      "source": [
        "df_2017.head()"
      ]
    },
    {
      "attachments": {},
      "cell_type": "markdown",
      "metadata": {
        "id": "lCqbzBQQXEQJ"
      },
      "source": [
        "#Treating the Data\n",
        "\n",
        "As we are working with a database with a high number of columns (questions), we decided to reduce the number of columns we will work with by selecting only those that appear in the original 5 databases."
      ]
    },
    {
      "cell_type": "code",
      "execution_count": 19,
      "metadata": {
        "id": "VTvajcslcqh4"
      },
      "outputs": [],
      "source": [
        "# Adding a year tag \n",
        "def add_year_column(df,year):\n",
        "  df['year'] = year"
      ]
    },
    {
      "cell_type": "code",
      "execution_count": 20,
      "metadata": {
        "id": "Eb-yIKAhdFfs"
      },
      "outputs": [],
      "source": [
        "add_year_column(df_2017,2017)\n",
        "add_year_column(df_2018,2018)\n",
        "add_year_column(df_2019,2019)\n",
        "add_year_column(df_2020,2020)\n",
        "add_year_column(df_2021,2021)"
      ]
    },
    {
      "attachments": {},
      "cell_type": "markdown",
      "metadata": {
        "id": "jJOTbhwLXuDo"
      },
      "source": [
        "### Filtering the columns\n",
        "In addition, we apply a second filter to the columns. We are only selecting columns that have a fill above 80%. \n",
        "\n",
        "Some columns are the same for all databases, but have different tokens in each database. To deal with this, we had to remove these markers."
      ]
    },
    {
      "cell_type": "code",
      "execution_count": 21,
      "metadata": {
        "id": "zbYt1tIWjGqi"
      },
      "outputs": [],
      "source": [
        "# Only columns with 80% filled answers are valid\n",
        "def filter_columns(df, p=0.2):\n",
        "  valid_columns = df.isna().sum() <= p * df.shape[0] \n",
        "  return df.loc[:,valid_columns]"
      ]
    },
    {
      "cell_type": "code",
      "execution_count": 22,
      "metadata": {
        "id": "v5S3IL9djWlx"
      },
      "outputs": [],
      "source": [
        "df_2017 = filter_columns(df_2017)\n",
        "df_2018 = filter_columns(df_2018)\n",
        "df_2019 = filter_columns(df_2019)\n",
        "df_2020 = filter_columns(df_2020)\n",
        "df_2021 = filter_columns(df_2021)"
      ]
    },
    {
      "cell_type": "code",
      "execution_count": 23,
      "metadata": {
        "id": "yLaRwe6UOcqh"
      },
      "outputs": [],
      "source": [
        "def correct_columns_names(df, rToken, sToken):\n",
        "  df.columns = df.columns.str.replace(rToken, sToken)"
      ]
    },
    {
      "cell_type": "code",
      "execution_count": 24,
      "metadata": {
        "id": "AQWnQHdzLbGo"
      },
      "outputs": [
        {
          "name": "stderr",
          "output_type": "stream",
          "text": [
            "C:\\Users\\mari\\AppData\\Local\\Temp\\ipykernel_147652\\2116598040.py:2: FutureWarning: The default value of regex will change from True to False in a future version. In addition, single character regular expressions will *not* be treated as literal strings when regex=True.\n",
            "  df.columns = df.columns.str.replace(rToken, sToken)\n",
            "C:\\Users\\mari\\AppData\\Local\\Temp\\ipykernel_147652\\2116598040.py:2: FutureWarning: The default value of regex will change from True to False in a future version. In addition, single character regular expressions will *not* be treated as literal strings when regex=True.\n",
            "  df.columns = df.columns.str.replace(rToken, sToken)\n",
            "C:\\Users\\mari\\AppData\\Local\\Temp\\ipykernel_147652\\2116598040.py:2: FutureWarning: The default value of regex will change from True to False in a future version. In addition, single character regular expressions will *not* be treated as literal strings when regex=True.\n",
            "  df.columns = df.columns.str.replace(rToken, sToken)\n",
            "C:\\Users\\mari\\AppData\\Local\\Temp\\ipykernel_147652\\2116598040.py:2: FutureWarning: The default value of regex will change from True to False in a future version. In addition, single character regular expressions will *not* be treated as literal strings when regex=True.\n",
            "  df.columns = df.columns.str.replace(rToken, sToken)\n",
            "C:\\Users\\mari\\AppData\\Local\\Temp\\ipykernel_147652\\2116598040.py:2: FutureWarning: The default value of regex will change from True to False in a future version. In addition, single character regular expressions will *not* be treated as literal strings when regex=True.\n",
            "  df.columns = df.columns.str.replace(rToken, sToken)\n"
          ]
        }
      ],
      "source": [
        "#arrumar as perguntas\n",
        "correct_columns_names(df_2017, '*', '')\n",
        "correct_columns_names(df_2017, '<strong>', '')\n",
        "correct_columns_names(df_2017, '</strong>', '')\n",
        "\n",
        "correct_columns_names(df_2018, '*', '')\n",
        "correct_columns_names(df_2018, '<strong>', '')\n",
        "correct_columns_names(df_2018, '</strong>', '')\n",
        "\n",
        "correct_columns_names(df_2019, '*', '')\n",
        "correct_columns_names(df_2019, '<strong>', '')\n",
        "correct_columns_names(df_2019, '</strong>', '')\n",
        "\n",
        "correct_columns_names(df_2020, '*', '')\n",
        "correct_columns_names(df_2020, '<strong>', '')\n",
        "correct_columns_names(df_2020, '</strong>', '')\n",
        "\n",
        "correct_columns_names(df_2021, '*', '')\n",
        "correct_columns_names(df_2021, '<strong>', '')\n",
        "correct_columns_names(df_2021, '</strong>', '')"
      ]
    },
    {
      "attachments": {},
      "cell_type": "markdown",
      "metadata": {
        "id": "JPUCQxwPZSiu"
      },
      "source": [
        "After all this process, we reduced the number of columns in our databases to 33.\n",
        "\n",
        "\n"
      ]
    },
    {
      "cell_type": "code",
      "execution_count": 25,
      "metadata": {
        "id": "x__85GXXxbmC"
      },
      "outputs": [
        {
          "data": {
            "text/plain": [
              "33"
            ]
          },
          "execution_count": 25,
          "metadata": {},
          "output_type": "execute_result"
        }
      ],
      "source": [
        "commun_columns = df_2017.columns.intersection(df_2018.columns)\n",
        "commun_columns = df_2019.columns.intersection(commun_columns)\n",
        "commun_columns = df_2020.columns.intersection(commun_columns)\n",
        "commun_columns = df_2021.columns.intersection(commun_columns)\n",
        "len(commun_columns)"
      ]
    },
    {
      "attachments": {},
      "cell_type": "markdown",
      "metadata": {
        "id": "9tkxG0sHyrPO"
      },
      "source": [
        "###Merging the data frames\n",
        "\n",
        "We will deal with two data frames, one pre-pandemic (***pre_df***) and one during the pandemic (**during_df**)."
      ]
    },
    {
      "cell_type": "code",
      "execution_count": 39,
      "metadata": {
        "id": "oIKW2Rk6zY41"
      },
      "outputs": [],
      "source": [
        "pre_df = pd.concat([df_2017[commun_columns], df_2018[commun_columns]])\n",
        "pre_df = pd.concat([pre_df, df_2019[commun_columns]])\n",
        "during_df = pd.concat([df_2020[commun_columns], df_2021[commun_columns]])"
      ]
    },
    {
      "cell_type": "code",
      "execution_count": 40,
      "metadata": {
        "id": "Jc5qFG9bZxzi"
      },
      "outputs": [
        {
          "name": "stdout",
          "output_type": "stream",
          "text": [
            "<class 'pandas.core.frame.DataFrame'>\n",
            "Int64Index: 1525 entries, 0 to 351\n",
            "Data columns (total 33 columns):\n",
            " #   Column                                                                                                                                          Non-Null Count  Dtype  \n",
            "---  ------                                                                                                                                          --------------  -----  \n",
            " 0   Are you self-employed?                                                                                                                          1525 non-null   object \n",
            " 1   How many employees does your company or organization have?                                                                                      1308 non-null   object \n",
            " 2   Is your employer primarily a tech company/organization?                                                                                         1308 non-null   object \n",
            " 3   Is your primary role within your company related to tech/IT?                                                                                    1308 non-null   object \n",
            " 4   Has your employer ever formally discussed mental health (for example, as part of a wellness campaign or other official communication)?          1308 non-null   object \n",
            " 5   Does your employer offer resources to learn more about mental health disorders and options for seeking help?                                    1308 non-null   object \n",
            " 6   Is your anonymity protected if you choose to take advantage of mental health or substance abuse treatment resources provided by your employer?  1308 non-null   object \n",
            " 7   If a mental health issue prompted you to request a medical leave from work, how easy or difficult would it be to ask for that leave?            1308 non-null   object \n",
            " 8   Would you feel more comfortable talking to your coworkers about your physical health or your mental health?                                     1308 non-null   object \n",
            " 9   Would you feel comfortable discussing a mental health issue with your direct supervisor(s)?                                                     1308 non-null   object \n",
            " 10  Have you ever discussed your mental health with your employer?                                                                                  1308 non-null   object \n",
            " 11  Would you feel comfortable discussing a mental health issue with your coworkers?                                                                1308 non-null   object \n",
            " 12  Have you ever discussed your mental health with coworkers?                                                                                      1304 non-null   object \n",
            " 13  Have you ever had a coworker discuss their or another coworker's mental health with you?                                                        1302 non-null   object \n",
            " 14  Overall, how much importance does your employer place on physical health?                                                                       1308 non-null   float64\n",
            " 15  Overall, how much importance does your employer place on mental health?                                                                         1308 non-null   float64\n",
            " 16  Do you have previous employers?                                                                                                                 1525 non-null   object \n",
            " 17  Do you currently have a mental health disorder?                                                                                                 1525 non-null   object \n",
            " 18  Have you had a mental health disorder in the past?                                                                                              1510 non-null   object \n",
            " 19  Have you ever sought treatment for a mental health disorder from a mental health professional?                                                  1525 non-null   object \n",
            " 20  Do you have a family history of mental illness?                                                                                                 1525 non-null   object \n",
            " 21  If you have a mental health disorder, how often do you feel that it interferes with your work when being treated effectively?                   1525 non-null   object \n",
            " 22  How willing would you be to share with friends and family that you have a mental illness?                                                       1525 non-null   int64  \n",
            " 23  Would you be willing to bring up a physical health issue with a potential employer in an interview?                                             1525 non-null   object \n",
            " 24  Would you bring up your mental health with a potential employer in an interview?                                                                1525 non-null   object \n",
            " 25  Are you openly identified at work as a person with a mental health issue?                                                                       1523 non-null   object \n",
            " 26  Have you observed or experienced an unsupportive or badly handled response to a mental health issue in your current or previous workplace?      1523 non-null   object \n",
            " 27  Overall, how well do you think the tech industry supports employees with mental health issues?                                                  1523 non-null   float64\n",
            " 28  What is your age?                                                                                                                               1523 non-null   float64\n",
            " 29  What is your gender?                                                                                                                            1504 non-null   object \n",
            " 30  What country do you live in?                                                                                                                    1523 non-null   object \n",
            " 31  What country do you work in?                                                                                                                    1523 non-null   object \n",
            " 32  year                                                                                                                                            1525 non-null   int64  \n",
            "dtypes: float64(4), int64(2), object(27)\n",
            "memory usage: 405.1+ KB\n"
          ]
        }
      ],
      "source": [
        "pre_df.info()"
      ]
    },
    {
      "cell_type": "code",
      "execution_count": 41,
      "metadata": {
        "id": "sz33j9S2Z2aq"
      },
      "outputs": [
        {
          "name": "stdout",
          "output_type": "stream",
          "text": [
            "<class 'pandas.core.frame.DataFrame'>\n",
            "Int64Index: 311 entries, 0 to 130\n",
            "Data columns (total 33 columns):\n",
            " #   Column                                                                                                                                          Non-Null Count  Dtype  \n",
            "---  ------                                                                                                                                          --------------  -----  \n",
            " 0   Are you self-employed?                                                                                                                          311 non-null    int64  \n",
            " 1   How many employees does your company or organization have?                                                                                      269 non-null    object \n",
            " 2   Is your employer primarily a tech company/organization?                                                                                         269 non-null    float64\n",
            " 3   Is your primary role within your company related to tech/IT?                                                                                    269 non-null    float64\n",
            " 4   Has your employer ever formally discussed mental health (for example, as part of a wellness campaign or other official communication)?          269 non-null    object \n",
            " 5   Does your employer offer resources to learn more about mental health disorders and options for seeking help?                                    269 non-null    object \n",
            " 6   Is your anonymity protected if you choose to take advantage of mental health or substance abuse treatment resources provided by your employer?  269 non-null    object \n",
            " 7   If a mental health issue prompted you to request a medical leave from work, how easy or difficult would it be to ask for that leave?            269 non-null    object \n",
            " 8   Would you feel more comfortable talking to your coworkers about your physical health or your mental health?                                     269 non-null    object \n",
            " 9   Would you feel comfortable discussing a mental health issue with your direct supervisor(s)?                                                     269 non-null    object \n",
            " 10  Have you ever discussed your mental health with your employer?                                                                                  269 non-null    float64\n",
            " 11  Would you feel comfortable discussing a mental health issue with your coworkers?                                                                269 non-null    object \n",
            " 12  Have you ever discussed your mental health with coworkers?                                                                                      268 non-null    float64\n",
            " 13  Have you ever had a coworker discuss their or another coworker's mental health with you?                                                        267 non-null    float64\n",
            " 14  Overall, how much importance does your employer place on physical health?                                                                       269 non-null    float64\n",
            " 15  Overall, how much importance does your employer place on mental health?                                                                         269 non-null    float64\n",
            " 16  Do you have previous employers?                                                                                                                 311 non-null    int64  \n",
            " 17  Do you currently have a mental health disorder?                                                                                                 311 non-null    object \n",
            " 18  Have you had a mental health disorder in the past?                                                                                              303 non-null    object \n",
            " 19  Have you ever sought treatment for a mental health disorder from a mental health professional?                                                  311 non-null    int64  \n",
            " 20  Do you have a family history of mental illness?                                                                                                 311 non-null    object \n",
            " 21  If you have a mental health disorder, how often do you feel that it interferes with your work when being treated effectively?                   311 non-null    object \n",
            " 22  How willing would you be to share with friends and family that you have a mental illness?                                                       311 non-null    int64  \n",
            " 23  Would you be willing to bring up a physical health issue with a potential employer in an interview?                                             311 non-null    object \n",
            " 24  Would you bring up your mental health with a potential employer in an interview?                                                                311 non-null    object \n",
            " 25  Are you openly identified at work as a person with a mental health issue?                                                                       311 non-null    int64  \n",
            " 26  Have you observed or experienced an unsupportive or badly handled response to a mental health issue in your current or previous workplace?      311 non-null    object \n",
            " 27  Overall, how well do you think the tech industry supports employees with mental health issues?                                                  311 non-null    int64  \n",
            " 28  What is your age?                                                                                                                               311 non-null    int64  \n",
            " 29  What is your gender?                                                                                                                            307 non-null    object \n",
            " 30  What country do you live in?                                                                                                                    311 non-null    object \n",
            " 31  What country do you work in?                                                                                                                    311 non-null    object \n",
            " 32  year                                                                                                                                            311 non-null    int64  \n",
            "dtypes: float64(7), int64(8), object(18)\n",
            "memory usage: 82.6+ KB\n"
          ]
        }
      ],
      "source": [
        "during_df.info()"
      ]
    },
    {
      "attachments": {},
      "cell_type": "markdown",
      "metadata": {
        "id": "-_xGBpN3ZoGZ"
      },
      "source": [
        "#Exploratory Analysis\n"
      ]
    },
    {
      "attachments": {},
      "cell_type": "markdown",
      "metadata": {
        "id": "P218Od_6kpzr"
      },
      "source": [
        "###Viewing our Data"
      ]
    },
    {
      "cell_type": "code",
      "execution_count": 42,
      "metadata": {
        "id": "STYbkvAAeI1z"
      },
      "outputs": [
        {
          "name": "stdout",
          "output_type": "stream",
          "text": [
            "(1525, 33)\n"
          ]
        },
        {
          "data": {
            "text/html": [
              "<div>\n",
              "<style scoped>\n",
              "    .dataframe tbody tr th:only-of-type {\n",
              "        vertical-align: middle;\n",
              "    }\n",
              "\n",
              "    .dataframe tbody tr th {\n",
              "        vertical-align: top;\n",
              "    }\n",
              "\n",
              "    .dataframe thead th {\n",
              "        text-align: right;\n",
              "    }\n",
              "</style>\n",
              "<table border=\"1\" class=\"dataframe\">\n",
              "  <thead>\n",
              "    <tr style=\"text-align: right;\">\n",
              "      <th></th>\n",
              "      <th>Are you self-employed?</th>\n",
              "      <th>How many employees does your company or organization have?</th>\n",
              "      <th>Is your employer primarily a tech company/organization?</th>\n",
              "      <th>Is your primary role within your company related to tech/IT?</th>\n",
              "      <th>Has your employer ever formally discussed mental health (for example, as part of a wellness campaign or other official communication)?</th>\n",
              "      <th>Does your employer offer resources to learn more about mental health disorders and options for seeking help?</th>\n",
              "      <th>Is your anonymity protected if you choose to take advantage of mental health or substance abuse treatment resources provided by your employer?</th>\n",
              "      <th>If a mental health issue prompted you to request a medical leave from work, how easy or difficult would it be to ask for that leave?</th>\n",
              "      <th>Would you feel more comfortable talking to your coworkers about your physical health or your mental health?</th>\n",
              "      <th>Would you feel comfortable discussing a mental health issue with your direct supervisor(s)?</th>\n",
              "      <th>...</th>\n",
              "      <th>Would you be willing to bring up a physical health issue with a potential employer in an interview?</th>\n",
              "      <th>Would you bring up your mental health with a potential employer in an interview?</th>\n",
              "      <th>Are you openly identified at work as a person with a mental health issue?</th>\n",
              "      <th>Have you observed or experienced an unsupportive or badly handled response to a mental health issue in your current or previous workplace?</th>\n",
              "      <th>Overall, how well do you think the tech industry supports employees with mental health issues?</th>\n",
              "      <th>What is your age?</th>\n",
              "      <th>What is your gender?</th>\n",
              "      <th>What country do you live in?</th>\n",
              "      <th>What country do you work in?</th>\n",
              "      <th>year</th>\n",
              "    </tr>\n",
              "  </thead>\n",
              "  <tbody>\n",
              "    <tr>\n",
              "      <th>0</th>\n",
              "      <td>0</td>\n",
              "      <td>100-500</td>\n",
              "      <td>1.0</td>\n",
              "      <td>1.0</td>\n",
              "      <td>No</td>\n",
              "      <td>I don't know</td>\n",
              "      <td>I don't know</td>\n",
              "      <td>I don't know</td>\n",
              "      <td>Same level of comfort for each</td>\n",
              "      <td>Yes</td>\n",
              "      <td>...</td>\n",
              "      <td>Yes</td>\n",
              "      <td>No</td>\n",
              "      <td>0.0</td>\n",
              "      <td>Yes, I experienced</td>\n",
              "      <td>1.0</td>\n",
              "      <td>27.0</td>\n",
              "      <td>Female</td>\n",
              "      <td>United Kingdom</td>\n",
              "      <td>United Kingdom</td>\n",
              "      <td>2017</td>\n",
              "    </tr>\n",
              "    <tr>\n",
              "      <th>1</th>\n",
              "      <td>0</td>\n",
              "      <td>100-500</td>\n",
              "      <td>1.0</td>\n",
              "      <td>1.0</td>\n",
              "      <td>No</td>\n",
              "      <td>No</td>\n",
              "      <td>I don't know</td>\n",
              "      <td>I don't know</td>\n",
              "      <td>Same level of comfort for each</td>\n",
              "      <td>Maybe</td>\n",
              "      <td>...</td>\n",
              "      <td>Yes</td>\n",
              "      <td>No</td>\n",
              "      <td>0.0</td>\n",
              "      <td>Yes, I observed</td>\n",
              "      <td>2.0</td>\n",
              "      <td>31.0</td>\n",
              "      <td>male</td>\n",
              "      <td>United Kingdom</td>\n",
              "      <td>United Kingdom</td>\n",
              "      <td>2017</td>\n",
              "    </tr>\n",
              "    <tr>\n",
              "      <th>2</th>\n",
              "      <td>0</td>\n",
              "      <td>6-25</td>\n",
              "      <td>1.0</td>\n",
              "      <td>1.0</td>\n",
              "      <td>I don't know</td>\n",
              "      <td>No</td>\n",
              "      <td>Yes</td>\n",
              "      <td>Difficult</td>\n",
              "      <td>Same level of comfort for each</td>\n",
              "      <td>Yes</td>\n",
              "      <td>...</td>\n",
              "      <td>Maybe</td>\n",
              "      <td>No</td>\n",
              "      <td>1.0</td>\n",
              "      <td>Yes, I experienced</td>\n",
              "      <td>1.0</td>\n",
              "      <td>36.0</td>\n",
              "      <td>male</td>\n",
              "      <td>United States of America</td>\n",
              "      <td>United States of America</td>\n",
              "      <td>2017</td>\n",
              "    </tr>\n",
              "    <tr>\n",
              "      <th>3</th>\n",
              "      <td>0</td>\n",
              "      <td>More than 1000</td>\n",
              "      <td>1.0</td>\n",
              "      <td>1.0</td>\n",
              "      <td>I don't know</td>\n",
              "      <td>I don't know</td>\n",
              "      <td>Yes</td>\n",
              "      <td>Difficult</td>\n",
              "      <td>Same level of comfort for each</td>\n",
              "      <td>Yes</td>\n",
              "      <td>...</td>\n",
              "      <td>No</td>\n",
              "      <td>No</td>\n",
              "      <td>0.0</td>\n",
              "      <td>Maybe/Not sure</td>\n",
              "      <td>2.0</td>\n",
              "      <td>22.0</td>\n",
              "      <td>Male</td>\n",
              "      <td>United States of America</td>\n",
              "      <td>United States of America</td>\n",
              "      <td>2017</td>\n",
              "    </tr>\n",
              "    <tr>\n",
              "      <th>4</th>\n",
              "      <td>1</td>\n",
              "      <td>NaN</td>\n",
              "      <td>NaN</td>\n",
              "      <td>NaN</td>\n",
              "      <td>NaN</td>\n",
              "      <td>NaN</td>\n",
              "      <td>NaN</td>\n",
              "      <td>NaN</td>\n",
              "      <td>NaN</td>\n",
              "      <td>NaN</td>\n",
              "      <td>...</td>\n",
              "      <td>Maybe</td>\n",
              "      <td>No</td>\n",
              "      <td>0.0</td>\n",
              "      <td>No</td>\n",
              "      <td>1.0</td>\n",
              "      <td>52.0</td>\n",
              "      <td>female</td>\n",
              "      <td>United States of America</td>\n",
              "      <td>United States of America</td>\n",
              "      <td>2017</td>\n",
              "    </tr>\n",
              "  </tbody>\n",
              "</table>\n",
              "<p>5 rows × 33 columns</p>\n",
              "</div>"
            ],
            "text/plain": [
              "  Are you self-employed?  \\\n",
              "0                      0   \n",
              "1                      0   \n",
              "2                      0   \n",
              "3                      0   \n",
              "4                      1   \n",
              "\n",
              "  How many employees does your company or organization have?  \\\n",
              "0                                            100-500           \n",
              "1                                            100-500           \n",
              "2                                               6-25           \n",
              "3                                     More than 1000           \n",
              "4                                                NaN           \n",
              "\n",
              "  Is your employer primarily a tech company/organization?  \\\n",
              "0                                                1.0        \n",
              "1                                                1.0        \n",
              "2                                                1.0        \n",
              "3                                                1.0        \n",
              "4                                                NaN        \n",
              "\n",
              "  Is your primary role within your company related to tech/IT?  \\\n",
              "0                                                1.0             \n",
              "1                                                1.0             \n",
              "2                                                1.0             \n",
              "3                                                1.0             \n",
              "4                                                NaN             \n",
              "\n",
              "  Has your employer ever formally discussed mental health (for example, as part of a wellness campaign or other official communication)?  \\\n",
              "0                                                 No                                                                                       \n",
              "1                                                 No                                                                                       \n",
              "2                                       I don't know                                                                                       \n",
              "3                                       I don't know                                                                                       \n",
              "4                                                NaN                                                                                       \n",
              "\n",
              "  Does your employer offer resources to learn more about mental health disorders and options for seeking help?  \\\n",
              "0                                       I don't know                                                             \n",
              "1                                                 No                                                             \n",
              "2                                                 No                                                             \n",
              "3                                       I don't know                                                             \n",
              "4                                                NaN                                                             \n",
              "\n",
              "  Is your anonymity protected if you choose to take advantage of mental health or substance abuse treatment resources provided by your employer?  \\\n",
              "0                                       I don't know                                                                                               \n",
              "1                                       I don't know                                                                                               \n",
              "2                                                Yes                                                                                               \n",
              "3                                                Yes                                                                                               \n",
              "4                                                NaN                                                                                               \n",
              "\n",
              "  If a mental health issue prompted you to request a medical leave from work, how easy or difficult would it be to ask for that leave?  \\\n",
              "0                                       I don't know                                                                                     \n",
              "1                                       I don't know                                                                                     \n",
              "2                                          Difficult                                                                                     \n",
              "3                                          Difficult                                                                                     \n",
              "4                                                NaN                                                                                     \n",
              "\n",
              "  Would you feel more comfortable talking to your coworkers about your physical health or your mental health?  \\\n",
              "0                     Same level of comfort for each                                                            \n",
              "1                     Same level of comfort for each                                                            \n",
              "2                     Same level of comfort for each                                                            \n",
              "3                     Same level of comfort for each                                                            \n",
              "4                                                NaN                                                            \n",
              "\n",
              "  Would you feel comfortable discussing a mental health issue with your direct supervisor(s)?  \\\n",
              "0                                                Yes                                            \n",
              "1                                              Maybe                                            \n",
              "2                                                Yes                                            \n",
              "3                                                Yes                                            \n",
              "4                                                NaN                                            \n",
              "\n",
              "   ...  \\\n",
              "0  ...   \n",
              "1  ...   \n",
              "2  ...   \n",
              "3  ...   \n",
              "4  ...   \n",
              "\n",
              "  Would you be willing to bring up a physical health issue with a potential employer in an interview?  \\\n",
              "0                                                Yes                                                    \n",
              "1                                                Yes                                                    \n",
              "2                                              Maybe                                                    \n",
              "3                                                 No                                                    \n",
              "4                                              Maybe                                                    \n",
              "\n",
              "  Would you bring up your mental health with a potential employer in an interview?  \\\n",
              "0                                                 No                                 \n",
              "1                                                 No                                 \n",
              "2                                                 No                                 \n",
              "3                                                 No                                 \n",
              "4                                                 No                                 \n",
              "\n",
              "  Are you openly identified at work as a person with a mental health issue?  \\\n",
              "0                                                0.0                          \n",
              "1                                                0.0                          \n",
              "2                                                1.0                          \n",
              "3                                                0.0                          \n",
              "4                                                0.0                          \n",
              "\n",
              "  Have you observed or experienced an unsupportive or badly handled response to a mental health issue in your current or previous workplace?  \\\n",
              "0                                 Yes, I experienced                                                                                           \n",
              "1                                    Yes, I observed                                                                                           \n",
              "2                                 Yes, I experienced                                                                                           \n",
              "3                                     Maybe/Not sure                                                                                           \n",
              "4                                                 No                                                                                           \n",
              "\n",
              "   Overall, how well do you think the tech industry supports employees with mental health issues?  \\\n",
              "0                                                1.0                                                \n",
              "1                                                2.0                                                \n",
              "2                                                1.0                                                \n",
              "3                                                2.0                                                \n",
              "4                                                1.0                                                \n",
              "\n",
              "   What is your age? What is your gender? What country do you live in?  \\\n",
              "0               27.0               Female               United Kingdom   \n",
              "1               31.0                 male               United Kingdom   \n",
              "2               36.0                 male     United States of America   \n",
              "3               22.0                 Male     United States of America   \n",
              "4               52.0               female     United States of America   \n",
              "\n",
              "  What country do you work in?  year  \n",
              "0               United Kingdom  2017  \n",
              "1               United Kingdom  2017  \n",
              "2     United States of America  2017  \n",
              "3     United States of America  2017  \n",
              "4     United States of America  2017  \n",
              "\n",
              "[5 rows x 33 columns]"
            ]
          },
          "execution_count": 42,
          "metadata": {},
          "output_type": "execute_result"
        }
      ],
      "source": [
        "print(pre_df.shape)\n",
        "pre_df.head()\n",
        "\n"
      ]
    },
    {
      "cell_type": "code",
      "execution_count": 45,
      "metadata": {
        "id": "ao00BgM_lDIn"
      },
      "outputs": [
        {
          "name": "stdout",
          "output_type": "stream",
          "text": [
            "(311, 33)\n"
          ]
        }
      ],
      "source": [
        "print(during_df.shape)\n"
      ]
    },
    {
      "cell_type": "code",
      "execution_count": 31,
      "metadata": {
        "id": "VaXFJmMUltag"
      },
      "outputs": [
        {
          "data": {
            "text/plain": [
              "Index(['Are you self-employed?',\n",
              "       'How many employees does your company or organization have?',\n",
              "       'Is your employer primarily a tech company/organization?',\n",
              "       'Is your primary role within your company related to tech/IT?',\n",
              "       'Has your employer ever formally discussed mental health (for example, as part of a wellness campaign or other official communication)?',\n",
              "       'Does your employer offer resources to learn more about mental health disorders and options for seeking help?',\n",
              "       'Is your anonymity protected if you choose to take advantage of mental health or substance abuse treatment resources provided by your employer?',\n",
              "       'If a mental health issue prompted you to request a medical leave from work, how easy or difficult would it be to ask for that leave?',\n",
              "       'Would you feel more comfortable talking to your coworkers about your physical health or your mental health?',\n",
              "       'Would you feel comfortable discussing a mental health issue with your direct supervisor(s)?',\n",
              "       'Have you ever discussed your mental health with your employer?',\n",
              "       'Would you feel comfortable discussing a mental health issue with your coworkers?',\n",
              "       'Have you ever discussed your mental health with coworkers?',\n",
              "       'Have you ever had a coworker discuss their or another coworker's mental health with you?',\n",
              "       'Overall, how much importance does your employer place on physical health?',\n",
              "       'Overall, how much importance does your employer place on mental health?',\n",
              "       'Do you have previous employers?',\n",
              "       'Do you currently have a mental health disorder?',\n",
              "       'Have you had a mental health disorder in the past?',\n",
              "       'Have you ever sought treatment for a mental health disorder from a mental health professional?',\n",
              "       'Do you have a family history of mental illness?',\n",
              "       'If you have a mental health disorder, how often do you feel that it interferes with your work when being treated effectively?',\n",
              "       'How willing would you be to share with friends and family that you have a mental illness?',\n",
              "       'Would you be willing to bring up a physical health issue with a potential employer in an interview?',\n",
              "       'Would you bring up your mental health with a potential employer in an interview?',\n",
              "       'Are you openly identified at work as a person with a mental health issue?',\n",
              "       'Have you observed or experienced an unsupportive or badly handled response to a mental health issue in your current or previous workplace?',\n",
              "       'Overall, how well do you think the tech industry supports employees with mental health issues?',\n",
              "       'What is your age?', 'What is your gender?',\n",
              "       'What country do you live in?', 'What country do you work in?', 'year'],\n",
              "      dtype='object')"
            ]
          },
          "execution_count": 31,
          "metadata": {},
          "output_type": "execute_result"
        }
      ],
      "source": [
        "pre_df.columns"
      ]
    },
    {
      "attachments": {},
      "cell_type": "markdown",
      "metadata": {
        "id": "NPJzSFMzasCe"
      },
      "source": [
        "## First observations"
      ]
    },
    {
      "attachments": {},
      "cell_type": "markdown",
      "metadata": {
        "id": "1mKL0Ic8Ordp"
      },
      "source": [
        "**Total age distribution**"
      ]
    },
    {
      "cell_type": "code",
      "execution_count": 46,
      "metadata": {
        "id": "wx8HQfneK1oW"
      },
      "outputs": [
        {
          "data": {
            "image/png": "[encoded data removed]",
            "text/plain": [
              "<Figure size 576x288 with 1 Axes>"
            ]
          },
          "metadata": {
            "needs_background": "light"
          },
          "output_type": "display_data"
        }
      ],
      "source": [
        "# Concatenating the 'What is your age?' columns from pre-pandemic and during-pandemic dataframes\n",
        "age_data = pd.concat([pre_df['What is your age?'], during_df['What is your age?']])\n",
        "\n",
        "# Converting age data to numeric values (assuming it contains numerical values)\n",
        "age_data = pd.to_numeric(age_data, errors='coerce')\n",
        "\n",
        "# Removing missing or invalid values\n",
        "age_data = age_data.dropna()\n",
        "\n",
        "# Filtering ages over or equal to 18\n",
        "age_data = age_data[age_data >= 18]\n",
        "\n",
        "# Defining the range of values with intervals of 10\n",
        "bin_range = np.arange(0, min(age_data.max(), 100) + 5, 5)\n",
        "\n",
        "# Plotting the histogram\n",
        "plt.figure(figsize=(8, 4))\n",
        "plt.hist(age_data, bins=bin_range, edgecolor='black')\n",
        "plt.xlabel('Age')\n",
        "plt.ylabel('Count')\n",
        "plt.title('Total Age Distribution')\n",
        "plt.xticks(bin_range)\n",
        "plt.show()\n"
      ]
    },
    {
      "attachments": {},
      "cell_type": "markdown",
      "metadata": {
        "id": "7OUu6C8Whcxy"
      },
      "source": [
        "**Age distribution by period**"
      ]
    },
    {
      "cell_type": "code",
      "execution_count": 47,
      "metadata": {
        "id": "31ghMrb-gYuq"
      },
      "outputs": [
        {
          "data": {
            "image/png": "[encoded data removed]",
            "text/plain": [
              "<Figure size 864x288 with 2 Axes>"
            ]
          },
          "metadata": {
            "needs_background": "light"
          },
          "output_type": "display_data"
        }
      ],
      "source": [
        "# Extracting the 'What is your age?' column from the pre-pandemic dataframe and from the during-pandemic dataframe\n",
        "age_data_pre = pre_df['What is your age?']\n",
        "age_data_dur = during_df['What is your age?']\n",
        "\n",
        "# Converting age data to numeric values (assuming it contains numerical values)\n",
        "age_data_pre = pd.to_numeric(age_data_pre, errors='coerce')\n",
        "age_data_dur = pd.to_numeric(age_data_dur, errors='coerce')\n",
        "\n",
        "# Removing missing or invalid values\n",
        "age_data_pre = age_data_pre.dropna()\n",
        "age_data_dur = age_data_dur.dropna()\n",
        "\n",
        "# Filtering ages over or equal to 18\n",
        "age_data_pre = age_data_pre[age_data_pre >= 18]\n",
        "age_data_dur = age_data_dur[age_data_dur >= 18]\n",
        "\n",
        "# Defining the range of values with intervals of 10\n",
        "bin_range = np.arange(0, min(age_data_pre.max(), age_data_dur.max(), 100) + 5, 5)\n",
        "\n",
        "# Creating subplots\n",
        "fig, axes = plt.subplots(1, 2, figsize=(12, 4))\n",
        "\n",
        "# Plotting the histogram for pre-pandemic period\n",
        "axes[0].hist(age_data_pre, bins=bin_range, edgecolor='black', color='salmon')\n",
        "axes[0].set_xlabel('Age')\n",
        "axes[0].set_ylabel('Count')\n",
        "axes[0].set_title('Pre-Pandemic Age Distribution')\n",
        "axes[0].set_xticks(bin_range)\n",
        "\n",
        "# Plotting the histogram for during-pandemic period\n",
        "axes[1].hist(age_data_dur, bins=bin_range, edgecolor='black', color='salmon')\n",
        "axes[1].set_xlabel('Age')\n",
        "axes[1].set_ylabel('Count')\n",
        "axes[1].set_title('During-Pandemic Age Distribution')\n",
        "axes[1].set_xticks(bin_range)\n",
        "\n",
        "# Adjusting spacing between subplots\n",
        "plt.tight_layout()\n",
        "\n",
        "# Displaying the plot\n",
        "plt.show()\n",
        "\n"
      ]
    },
    {
      "attachments": {},
      "cell_type": "markdown",
      "metadata": {
        "id": "KiQV0J14btby"
      },
      "source": [
        "### --------"
      ]
    },
    {
      "cell_type": "code",
      "execution_count": 48,
      "metadata": {
        "id": "DISntNKSqKmZ"
      },
      "outputs": [
        {
          "data": {
            "text/plain": [
              "<Figure size 10800x10800 with 0 Axes>"
            ]
          },
          "execution_count": 48,
          "metadata": {},
          "output_type": "execute_result"
        },
        {
          "data": {
            "image/png": "[encoded data removed]",
            "text/plain": [
              "<Figure size 432x288 with 1 Axes>"
            ]
          },
          "metadata": {
            "needs_background": "light"
          },
          "output_type": "display_data"
        },
        {
          "data": {
            "text/plain": [
              "<Figure size 10800x10800 with 0 Axes>"
            ]
          },
          "metadata": {},
          "output_type": "display_data"
        }
      ],
      "source": [
        "# Selecting the 'Do you currently have a mental health disorder?' and 'year' columns from the pre_df DataFrame\n",
        "tmp = pre_df[['Do you currently have a mental health disorder?', 'year']]\n",
        "\n",
        "# Grouping the data by 'year' and counting the occurrences of each answer for 'Do you currently have a mental health disorder?'\n",
        "# Calculating the percentage of each answer using normalize=True\n",
        "pre_mental_health = tmp.groupby('year')['Do you currently have a mental health disorder?'].value_counts(normalize=True).unstack()\n",
        "\n",
        "# Creating a bar plot using the pre_mental_health DataFrame\n",
        "pre_mental_health.plot(kind='bar')\n",
        "\n",
        "# Setting the title and labels for the plot\n",
        "plt.title('Do you currently have a mental health disorder?')\n",
        "plt.ylabel('Percent')\n",
        "plt.legend(title='Answer', loc='upper left')\n",
        "\n",
        "# Setting the figure size\n",
        "plt.figure(figsize=(150, 150))\n"
      ]
    },
    {
      "cell_type": "code",
      "execution_count": 35,
      "metadata": {
        "id": "DFAXc8gQuJqJ"
      },
      "outputs": [
        {
          "data": {
            "text/plain": [
              "<Figure size 10800x10800 with 0 Axes>"
            ]
          },
          "execution_count": 35,
          "metadata": {},
          "output_type": "execute_result"
        },
        {
          "data": {
            "image/png": "[encoded data removed]",
            "text/plain": [
              "<Figure size 432x288 with 1 Axes>"
            ]
          },
          "metadata": {
            "needs_background": "light"
          },
          "output_type": "display_data"
        },
        {
          "data": {
            "text/plain": [
              "<Figure size 10800x10800 with 0 Axes>"
            ]
          },
          "metadata": {},
          "output_type": "display_data"
        }
      ],
      "source": [
        "# Selecting the 'Do you currently have a mental health disorder?' and 'year' columns from the during_df DataFrame\n",
        "tmp = during_df[['Do you currently have a mental health disorder?', 'year']]\n",
        "\n",
        "# Grouping the data by 'year' and counting the occurrences of each answer for 'Do you currently have a mental health disorder?'\n",
        "# Calculating the percentage of each answer using normalize=True\n",
        "dur_mental_health = tmp.groupby('year' )['Do you currently have a mental health disorder?'].value_counts(normalize=True).unstack()\n",
        "dur_mental_health.plot(kind='bar')\n",
        "\n",
        "# Setting the title, labels and size of the plot\n",
        "plt.title('Do you currently have a mental health disorder?')\n",
        "plt.ylabel('Percent')\n",
        "plt.legend(title='Answer', loc='upper left')\n",
        "plt.figure(figsize=(150, 150))"
      ]
    },
    {
      "cell_type": "code",
      "execution_count": 36,
      "metadata": {
        "id": "HFQFTLjpvaI8"
      },
      "outputs": [
        {
          "data": {
            "text/plain": [
              "<Figure size 10800x10800 with 0 Axes>"
            ]
          },
          "execution_count": 36,
          "metadata": {},
          "output_type": "execute_result"
        },
        {
          "data": {
            "image/png": "[encoded data removed]",
            "text/plain": [
              "<Figure size 432x288 with 1 Axes>"
            ]
          },
          "metadata": {
            "needs_background": "light"
          },
          "output_type": "display_data"
        },
        {
          "data": {
            "text/plain": [
              "<Figure size 10800x10800 with 0 Axes>"
            ]
          },
          "metadata": {},
          "output_type": "display_data"
        }
      ],
      "source": [
        "# Concatenating the pre_mental_health and dur_mental_health DataFrames\n",
        "complete_mental_health = pd.concat([pre_mental_health, dur_mental_health])\n",
        "\n",
        "# Creating a bar plot using the complete_mental_health DataFrame\n",
        "complete_mental_health.plot(kind='bar')\n",
        "\n",
        "# Setting the title, labels and size of the plot\n",
        "plt.title('Do you currently have a mental health disorder?')\n",
        "plt.ylabel('Percent')\n",
        "plt.legend(title='Answer', loc='upper left')\n",
        "plt.figure(figsize=(150, 150))"
      ]
    },
    {
      "attachments": {},
      "cell_type": "markdown",
      "metadata": {
        "id": "HrwvPXiSUqyX"
      },
      "source": [
        "**Total gender distribution**"
      ]
    },
    {
      "cell_type": "code",
      "execution_count": 37,
      "metadata": {
        "id": "oo-ElE7kTEYc"
      },
      "outputs": [
        {
          "data": {
            "image/png": "[encoded data removed]",
            "text/plain": [
              "<Figure size 288x288 with 1 Axes>"
            ]
          },
          "metadata": {},
          "output_type": "display_data"
        }
      ],
      "source": [
        "# Extracting the \"What is your gender?\" column from the data frame\n",
        "gender_data = pd.concat([pre_df['What is your gender?'], during_df['What is your gender?']])\n",
        "\n",
        "# Cleaning and mapping gender values to standard categories\n",
        "gender_data = gender_data.dropna().str.lower().str.strip()\n",
        "gender_data = gender_data.replace(['female', 'f', 'woman', 'cis woman'], 'Female')\n",
        "gender_data = gender_data.replace(['male', 'm', 'man', 'cis man'], 'Male')\n",
        "\n",
        "# Counting the occurrences of each gender category\n",
        "gender_counts = gender_data.value_counts()\n",
        "\n",
        "# Determining the threshold for grouping other genders\n",
        "threshold = 0.01      # Any gender category with an occurrence \n",
        "                      # below this threshold will be grouped \n",
        "                      # into the 'Other' category.\n",
        "\n",
        "# Grouping other genders with low occurrence into 'Other' category\n",
        "other_genders = gender_counts[gender_counts < threshold * gender_data.shape[0]].index\n",
        "gender_counts['Other'] = gender_counts[other_genders].sum()\n",
        "gender_counts = gender_counts.drop(other_genders)\n",
        "\n",
        "# Plotting the pie chart\n",
        "labels = ['Male', 'Female', 'Other']\n",
        "plt.figure(figsize=(4, 4))\n",
        "plt.pie(gender_counts, labels=gender_counts.index, autopct='%1.1f%%')\n",
        "plt.title('Total Gender Distribution')\n",
        "plt.axis('equal')\n",
        "plt.legend(labels, loc=\"upper right\")\n",
        "plt.show()"
      ]
    },
    {
      "attachments": {},
      "cell_type": "markdown",
      "metadata": {
        "id": "eLwNEGfJb2CN"
      },
      "source": [
        "**Gender distribution by period**"
      ]
    },
    {
      "cell_type": "code",
      "execution_count": 38,
      "metadata": {
        "id": "HyvakZYMbjbt"
      },
      "outputs": [
        {
          "data": {
            "image/png": "[encoded data removed]",
            "text/plain": [
              "<Figure size 576x576 with 4 Axes>"
            ]
          },
          "metadata": {
            "needs_background": "light"
          },
          "output_type": "display_data"
        }
      ],
      "source": [
        "# Extracting the \"What is your gender?\" column from the data frame for pre-pandemic and during-pandemic periods\n",
        "pre_gender_data = pre_df['What is your gender?']\n",
        "during_gender_data = during_df['What is your gender?']\n",
        "\n",
        "# Cleaning and mapping gender values to standard categories for pre-pandemic and during-pandemic periods\n",
        "pre_gender_data = pre_gender_data.dropna().str.lower().str.strip()\n",
        "pre_gender_data = pre_gender_data.replace(['female', 'f', 'woman', 'cis woman'], 'Female')\n",
        "pre_gender_data = pre_gender_data.replace(['male', 'm', 'man', 'cis man'], 'Male')\n",
        "\n",
        "during_gender_data = during_gender_data.dropna().str.lower().str.strip()\n",
        "during_gender_data = during_gender_data.replace(['female', 'f', 'woman', 'cis woman'], 'Female')\n",
        "during_gender_data = during_gender_data.replace(['male', 'm', 'man', 'cis man'], 'Male')\n",
        "\n",
        "# Grouping the gender data by period and counting the occurrences of each gender category\n",
        "pre_gender_counts = pre_gender_data.value_counts()\n",
        "during_gender_counts = during_gender_data.value_counts()\n",
        "\n",
        "# Determining the threshold for grouping other genders\n",
        "threshold = 0.01  \n",
        "\n",
        "# Grouping other genders with low occurrence into 'Other' category for pre-pandemic period\n",
        "pre_other_genders = pre_gender_counts[pre_gender_counts < threshold * pre_gender_data.shape[0]].index\n",
        "pre_gender_counts['Other'] = pre_gender_counts[pre_other_genders].sum()\n",
        "pre_gender_counts = pre_gender_counts.drop(pre_other_genders)\n",
        "\n",
        "# Grouping other genders with low occurrence into 'Other' category for during-pandemic period\n",
        "during_other_genders = during_gender_counts[during_gender_counts < threshold * during_gender_data.shape[0]].index\n",
        "during_gender_counts['Other'] = during_gender_counts[during_other_genders].sum()\n",
        "during_gender_counts = during_gender_counts.drop(during_other_genders)\n",
        "\n",
        "labels = ['Male', 'Female', 'Other']\n",
        "\n",
        "fig, axs = plt.subplots(2, 2, figsize=(8,8))\n",
        "\n",
        "# Plotting the pie chart for pre-pandemic period\n",
        "axs[0, 0].pie(pre_gender_counts, labels=pre_gender_counts.index, autopct='%1.1f%%',  colors=['salmon', 'gold', 'lightsteelblue'])\n",
        "axs[0,0].set_title('Gender Distribution - Pre-Pandemic')\n",
        "axs[0,0].axis('equal')\n",
        "axs[0,0].legend(labels, loc=\"upper right\")\n",
        "\n",
        "\n",
        "axs[0,1].bar(labels, pre_gender_counts, label=pre_gender_counts.index, color = ['salmon', 'gold', 'lightsteelblue'])\n",
        "axs[0,1].legend(loc='upper right')\n",
        "\n",
        "\n",
        "# Plot the pie chart for during-pandemic period\n",
        "axs[1,0].pie(during_gender_counts, labels=during_gender_counts.index, autopct='%1.1f%%', colors=['salmon', 'gold', 'lightsteelblue'])\n",
        "axs[1,0].set_title('Gender Distribution - During Pandemic')\n",
        "axs[1,0].axis('equal')\n",
        "axs[1,0].legend(labels, loc=\"upper right\")\n",
        "\n",
        "axs[1,1].bar(labels, during_gender_counts, label=during_gender_counts.index, color = ['salmon', 'gold', 'lightsteelblue'])\n",
        "axs[1,1].legend(loc='upper right')\n",
        "\n",
        "plt.subplots_adjust(left=0.1, right=0.9, bottom=1.8, top=2, wspace=0.3, hspace=0.3)\n",
        "plt.tight_layout()\n",
        "plt.show()"
      ]
    }
  ],
  "metadata": {
    "colab": {
      "provenance": []
    },
    "kernelspec": {
      "display_name": "Python 3",
      "name": "python3"
    },
    "language_info": {
      "codemirror_mode": {
        "name": "ipython",
        "version": 3
      },
      "file_extension": ".py",
      "mimetype": "text/x-python",
      "name": "python",
      "nbconvert_exporter": "python",
      "pygments_lexer": "ipython3",
      "version": "3.10.11"
    }
  },
  "nbformat": 4,
  "nbformat_minor": 0
}
