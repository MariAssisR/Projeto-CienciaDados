{
  "nbformat": 4,
  "nbformat_minor": 0,
  "metadata": {
    "colab": {
      "provenance": []
    },
    "kernelspec": {
      "name": "python3",
      "display_name": "Python 3"
    },
    "language_info": {
      "name": "python"
    }
  },
  "cells": [
    {
      "cell_type": "code",
      "source": [
        "import pandas as pd\n",
        "import numpy as np\n",
        "import matplotlib.pyplot as plt\n",
        "import seaborn as sns"
      ],
      "metadata": {
        "id": "qxmdvtfERlfj"
      },
      "execution_count": null,
      "outputs": []
    },
    {
      "cell_type": "markdown",
      "source": [
        "#Reading the Databases\n",
        "\n",
        "We will use five datas frames with the reference years between 2017 and 2021. In the initial analyses, we noticed some differences in the number of questions that were used to collect data from the samples. In order to work with consistent data for the comparison of the previous period and the event of the Covid-19 pandemic, the common issues were filtered to continue the other procedures\n"
      ],
      "metadata": {
        "id": "I3t64nDuVsGj"
      }
    },
    {
      "cell_type": "code",
      "source": [
        "df_2017 = pd.read_csv('/DataFrames/OSMI_2017_Mental_Health_in_Tech_Survey.csv') \n",
        "df_2018 = pd.read_csv('/DataFrames/OSMI_2018_Mental_Health_in_Tech_Survey.csv') \n",
        "df_2019 = pd.read_csv('/DataFrames/OSMI_2019_Mental_Health_in_Tech_Survey.csv') \n",
        "df_2020 = pd.read_csv('/DataFrames/OSMI_2020_Mental_Health_in_Tech_Survey.csv') \n",
        "df_2021 = pd.read_csv('/DataFrames/OSMI_2021_Mental_Health_in_Tech_Survey.csv') \n"
      ],
      "metadata": {
        "id": "-_fiuy0sVdTs",
        "outputId": "c72963a3-0391-4048-ca52-cd38b742b5df",
        "colab": {
          "base_uri": "https://localhost:8080/",
          "height": 380
        }
      },
      "execution_count": null,
      "outputs": [
        {
          "output_type": "error",
          "ename": "FileNotFoundError",
          "evalue": "ignored",
          "traceback": [
            "\u001b[0;31m---------------------------------------------------------------------------\u001b[0m",
            "\u001b[0;31mFileNotFoundError\u001b[0m                         Traceback (most recent call last)",
            "\u001b[0;32m<ipython-input-2-eba61319f9b6>\u001b[0m in \u001b[0;36m<cell line: 1>\u001b[0;34m()\u001b[0m\n\u001b[0;32m----> 1\u001b[0;31m \u001b[0mdf_2017\u001b[0m \u001b[0;34m=\u001b[0m \u001b[0mpd\u001b[0m\u001b[0;34m.\u001b[0m\u001b[0mread_csv\u001b[0m\u001b[0;34m(\u001b[0m\u001b[0;34m'/content/OSMI_Mental_Health_in_Tech_Survey_2018.csv.csv'\u001b[0m\u001b[0;34m)\u001b[0m\u001b[0;34m\u001b[0m\u001b[0;34m\u001b[0m\u001b[0m\n\u001b[0m\u001b[1;32m      2\u001b[0m \u001b[0mdf_2018\u001b[0m \u001b[0;34m=\u001b[0m \u001b[0mpd\u001b[0m\u001b[0;34m.\u001b[0m\u001b[0mread_csv\u001b[0m\u001b[0;34m(\u001b[0m\u001b[0;34m'/content/OSMI_Mental_Health_in_Tech_Survey_2017.csv.csv'\u001b[0m\u001b[0;34m)\u001b[0m\u001b[0;34m\u001b[0m\u001b[0;34m\u001b[0m\u001b[0m\n\u001b[1;32m      3\u001b[0m \u001b[0mdf_2019\u001b[0m \u001b[0;34m=\u001b[0m \u001b[0mpd\u001b[0m\u001b[0;34m.\u001b[0m\u001b[0mread_csv\u001b[0m\u001b[0;34m(\u001b[0m\u001b[0;34m'/content/OSMI 2019 Mental Health in Tech Survey Results - OSMI Mental Health in Tech Survey 2019.csv'\u001b[0m\u001b[0;34m)\u001b[0m\u001b[0;34m\u001b[0m\u001b[0;34m\u001b[0m\u001b[0m\n\u001b[1;32m      4\u001b[0m \u001b[0mdf_2020\u001b[0m \u001b[0;34m=\u001b[0m \u001b[0mpd\u001b[0m\u001b[0;34m.\u001b[0m\u001b[0mread_csv\u001b[0m\u001b[0;34m(\u001b[0m\u001b[0;34m'/content/OSMI 2020 Mental Health in Tech Survey Results .csv'\u001b[0m\u001b[0;34m)\u001b[0m\u001b[0;34m\u001b[0m\u001b[0;34m\u001b[0m\u001b[0m\n\u001b[1;32m      5\u001b[0m \u001b[0mdf_2021\u001b[0m \u001b[0;34m=\u001b[0m \u001b[0mpd\u001b[0m\u001b[0;34m.\u001b[0m\u001b[0mread_csv\u001b[0m\u001b[0;34m(\u001b[0m\u001b[0;34m'/content/OSMI 2021 Mental Health in Tech Survey Results .csv'\u001b[0m\u001b[0;34m)\u001b[0m\u001b[0;34m\u001b[0m\u001b[0;34m\u001b[0m\u001b[0m\n",
            "\u001b[0;32m/usr/local/lib/python3.10/dist-packages/pandas/util/_decorators.py\u001b[0m in \u001b[0;36mwrapper\u001b[0;34m(*args, **kwargs)\u001b[0m\n\u001b[1;32m    209\u001b[0m                 \u001b[0;32melse\u001b[0m\u001b[0;34m:\u001b[0m\u001b[0;34m\u001b[0m\u001b[0;34m\u001b[0m\u001b[0m\n\u001b[1;32m    210\u001b[0m                     \u001b[0mkwargs\u001b[0m\u001b[0;34m[\u001b[0m\u001b[0mnew_arg_name\u001b[0m\u001b[0;34m]\u001b[0m \u001b[0;34m=\u001b[0m \u001b[0mnew_arg_value\u001b[0m\u001b[0;34m\u001b[0m\u001b[0;34m\u001b[0m\u001b[0m\n\u001b[0;32m--> 211\u001b[0;31m             \u001b[0;32mreturn\u001b[0m \u001b[0mfunc\u001b[0m\u001b[0;34m(\u001b[0m\u001b[0;34m*\u001b[0m\u001b[0margs\u001b[0m\u001b[0;34m,\u001b[0m \u001b[0;34m**\u001b[0m\u001b[0mkwargs\u001b[0m\u001b[0;34m)\u001b[0m\u001b[0;34m\u001b[0m\u001b[0;34m\u001b[0m\u001b[0m\n\u001b[0m\u001b[1;32m    212\u001b[0m \u001b[0;34m\u001b[0m\u001b[0m\n\u001b[1;32m    213\u001b[0m         \u001b[0;32mreturn\u001b[0m \u001b[0mcast\u001b[0m\u001b[0;34m(\u001b[0m\u001b[0mF\u001b[0m\u001b[0;34m,\u001b[0m \u001b[0mwrapper\u001b[0m\u001b[0;34m)\u001b[0m\u001b[0;34m\u001b[0m\u001b[0;34m\u001b[0m\u001b[0m\n",
            "\u001b[0;32m/usr/local/lib/python3.10/dist-packages/pandas/util/_decorators.py\u001b[0m in \u001b[0;36mwrapper\u001b[0;34m(*args, **kwargs)\u001b[0m\n\u001b[1;32m    329\u001b[0m                     \u001b[0mstacklevel\u001b[0m\u001b[0;34m=\u001b[0m\u001b[0mfind_stack_level\u001b[0m\u001b[0;34m(\u001b[0m\u001b[0;34m)\u001b[0m\u001b[0;34m,\u001b[0m\u001b[0;34m\u001b[0m\u001b[0;34m\u001b[0m\u001b[0m\n\u001b[1;32m    330\u001b[0m                 )\n\u001b[0;32m--> 331\u001b[0;31m             \u001b[0;32mreturn\u001b[0m \u001b[0mfunc\u001b[0m\u001b[0;34m(\u001b[0m\u001b[0;34m*\u001b[0m\u001b[0margs\u001b[0m\u001b[0;34m,\u001b[0m \u001b[0;34m**\u001b[0m\u001b[0mkwargs\u001b[0m\u001b[0;34m)\u001b[0m\u001b[0;34m\u001b[0m\u001b[0;34m\u001b[0m\u001b[0m\n\u001b[0m\u001b[1;32m    332\u001b[0m \u001b[0;34m\u001b[0m\u001b[0m\n\u001b[1;32m    333\u001b[0m         \u001b[0;31m# error: \"Callable[[VarArg(Any), KwArg(Any)], Any]\" has no\u001b[0m\u001b[0;34m\u001b[0m\u001b[0;34m\u001b[0m\u001b[0m\n",
            "\u001b[0;32m/usr/local/lib/python3.10/dist-packages/pandas/io/parsers/readers.py\u001b[0m in \u001b[0;36mread_csv\u001b[0;34m(filepath_or_buffer, sep, delimiter, header, names, index_col, usecols, squeeze, prefix, mangle_dupe_cols, dtype, engine, converters, true_values, false_values, skipinitialspace, skiprows, skipfooter, nrows, na_values, keep_default_na, na_filter, verbose, skip_blank_lines, parse_dates, infer_datetime_format, keep_date_col, date_parser, dayfirst, cache_dates, iterator, chunksize, compression, thousands, decimal, lineterminator, quotechar, quoting, doublequote, escapechar, comment, encoding, encoding_errors, dialect, error_bad_lines, warn_bad_lines, on_bad_lines, delim_whitespace, low_memory, memory_map, float_precision, storage_options)\u001b[0m\n\u001b[1;32m    948\u001b[0m     \u001b[0mkwds\u001b[0m\u001b[0;34m.\u001b[0m\u001b[0mupdate\u001b[0m\u001b[0;34m(\u001b[0m\u001b[0mkwds_defaults\u001b[0m\u001b[0;34m)\u001b[0m\u001b[0;34m\u001b[0m\u001b[0;34m\u001b[0m\u001b[0m\n\u001b[1;32m    949\u001b[0m \u001b[0;34m\u001b[0m\u001b[0m\n\u001b[0;32m--> 950\u001b[0;31m     \u001b[0;32mreturn\u001b[0m \u001b[0m_read\u001b[0m\u001b[0;34m(\u001b[0m\u001b[0mfilepath_or_buffer\u001b[0m\u001b[0;34m,\u001b[0m \u001b[0mkwds\u001b[0m\u001b[0;34m)\u001b[0m\u001b[0;34m\u001b[0m\u001b[0;34m\u001b[0m\u001b[0m\n\u001b[0m\u001b[1;32m    951\u001b[0m \u001b[0;34m\u001b[0m\u001b[0m\n\u001b[1;32m    952\u001b[0m \u001b[0;34m\u001b[0m\u001b[0m\n",
            "\u001b[0;32m/usr/local/lib/python3.10/dist-packages/pandas/io/parsers/readers.py\u001b[0m in \u001b[0;36m_read\u001b[0;34m(filepath_or_buffer, kwds)\u001b[0m\n\u001b[1;32m    603\u001b[0m \u001b[0;34m\u001b[0m\u001b[0m\n\u001b[1;32m    604\u001b[0m     \u001b[0;31m# Create the parser.\u001b[0m\u001b[0;34m\u001b[0m\u001b[0;34m\u001b[0m\u001b[0m\n\u001b[0;32m--> 605\u001b[0;31m     \u001b[0mparser\u001b[0m \u001b[0;34m=\u001b[0m \u001b[0mTextFileReader\u001b[0m\u001b[0;34m(\u001b[0m\u001b[0mfilepath_or_buffer\u001b[0m\u001b[0;34m,\u001b[0m \u001b[0;34m**\u001b[0m\u001b[0mkwds\u001b[0m\u001b[0;34m)\u001b[0m\u001b[0;34m\u001b[0m\u001b[0;34m\u001b[0m\u001b[0m\n\u001b[0m\u001b[1;32m    606\u001b[0m \u001b[0;34m\u001b[0m\u001b[0m\n\u001b[1;32m    607\u001b[0m     \u001b[0;32mif\u001b[0m \u001b[0mchunksize\u001b[0m \u001b[0;32mor\u001b[0m \u001b[0miterator\u001b[0m\u001b[0;34m:\u001b[0m\u001b[0;34m\u001b[0m\u001b[0;34m\u001b[0m\u001b[0m\n",
            "\u001b[0;32m/usr/local/lib/python3.10/dist-packages/pandas/io/parsers/readers.py\u001b[0m in \u001b[0;36m__init__\u001b[0;34m(self, f, engine, **kwds)\u001b[0m\n\u001b[1;32m   1440\u001b[0m \u001b[0;34m\u001b[0m\u001b[0m\n\u001b[1;32m   1441\u001b[0m         \u001b[0mself\u001b[0m\u001b[0;34m.\u001b[0m\u001b[0mhandles\u001b[0m\u001b[0;34m:\u001b[0m \u001b[0mIOHandles\u001b[0m \u001b[0;34m|\u001b[0m \u001b[0;32mNone\u001b[0m \u001b[0;34m=\u001b[0m \u001b[0;32mNone\u001b[0m\u001b[0;34m\u001b[0m\u001b[0;34m\u001b[0m\u001b[0m\n\u001b[0;32m-> 1442\u001b[0;31m         \u001b[0mself\u001b[0m\u001b[0;34m.\u001b[0m\u001b[0m_engine\u001b[0m \u001b[0;34m=\u001b[0m \u001b[0mself\u001b[0m\u001b[0;34m.\u001b[0m\u001b[0m_make_engine\u001b[0m\u001b[0;34m(\u001b[0m\u001b[0mf\u001b[0m\u001b[0;34m,\u001b[0m \u001b[0mself\u001b[0m\u001b[0;34m.\u001b[0m\u001b[0mengine\u001b[0m\u001b[0;34m)\u001b[0m\u001b[0;34m\u001b[0m\u001b[0;34m\u001b[0m\u001b[0m\n\u001b[0m\u001b[1;32m   1443\u001b[0m \u001b[0;34m\u001b[0m\u001b[0m\n\u001b[1;32m   1444\u001b[0m     \u001b[0;32mdef\u001b[0m \u001b[0mclose\u001b[0m\u001b[0;34m(\u001b[0m\u001b[0mself\u001b[0m\u001b[0;34m)\u001b[0m \u001b[0;34m->\u001b[0m \u001b[0;32mNone\u001b[0m\u001b[0;34m:\u001b[0m\u001b[0;34m\u001b[0m\u001b[0;34m\u001b[0m\u001b[0m\n",
            "\u001b[0;32m/usr/local/lib/python3.10/dist-packages/pandas/io/parsers/readers.py\u001b[0m in \u001b[0;36m_make_engine\u001b[0;34m(self, f, engine)\u001b[0m\n\u001b[1;32m   1733\u001b[0m                 \u001b[0;32mif\u001b[0m \u001b[0;34m\"b\"\u001b[0m \u001b[0;32mnot\u001b[0m \u001b[0;32min\u001b[0m \u001b[0mmode\u001b[0m\u001b[0;34m:\u001b[0m\u001b[0;34m\u001b[0m\u001b[0;34m\u001b[0m\u001b[0m\n\u001b[1;32m   1734\u001b[0m                     \u001b[0mmode\u001b[0m \u001b[0;34m+=\u001b[0m \u001b[0;34m\"b\"\u001b[0m\u001b[0;34m\u001b[0m\u001b[0;34m\u001b[0m\u001b[0m\n\u001b[0;32m-> 1735\u001b[0;31m             self.handles = get_handle(\n\u001b[0m\u001b[1;32m   1736\u001b[0m                 \u001b[0mf\u001b[0m\u001b[0;34m,\u001b[0m\u001b[0;34m\u001b[0m\u001b[0;34m\u001b[0m\u001b[0m\n\u001b[1;32m   1737\u001b[0m                 \u001b[0mmode\u001b[0m\u001b[0;34m,\u001b[0m\u001b[0;34m\u001b[0m\u001b[0;34m\u001b[0m\u001b[0m\n",
            "\u001b[0;32m/usr/local/lib/python3.10/dist-packages/pandas/io/common.py\u001b[0m in \u001b[0;36mget_handle\u001b[0;34m(path_or_buf, mode, encoding, compression, memory_map, is_text, errors, storage_options)\u001b[0m\n\u001b[1;32m    854\u001b[0m         \u001b[0;32mif\u001b[0m \u001b[0mioargs\u001b[0m\u001b[0;34m.\u001b[0m\u001b[0mencoding\u001b[0m \u001b[0;32mand\u001b[0m \u001b[0;34m\"b\"\u001b[0m \u001b[0;32mnot\u001b[0m \u001b[0;32min\u001b[0m \u001b[0mioargs\u001b[0m\u001b[0;34m.\u001b[0m\u001b[0mmode\u001b[0m\u001b[0;34m:\u001b[0m\u001b[0;34m\u001b[0m\u001b[0;34m\u001b[0m\u001b[0m\n\u001b[1;32m    855\u001b[0m             \u001b[0;31m# Encoding\u001b[0m\u001b[0;34m\u001b[0m\u001b[0;34m\u001b[0m\u001b[0m\n\u001b[0;32m--> 856\u001b[0;31m             handle = open(\n\u001b[0m\u001b[1;32m    857\u001b[0m                 \u001b[0mhandle\u001b[0m\u001b[0;34m,\u001b[0m\u001b[0;34m\u001b[0m\u001b[0;34m\u001b[0m\u001b[0m\n\u001b[1;32m    858\u001b[0m                 \u001b[0mioargs\u001b[0m\u001b[0;34m.\u001b[0m\u001b[0mmode\u001b[0m\u001b[0;34m,\u001b[0m\u001b[0;34m\u001b[0m\u001b[0;34m\u001b[0m\u001b[0m\n",
            "\u001b[0;31mFileNotFoundError\u001b[0m: [Errno 2] No such file or directory: '/content/OSMI_Mental_Health_in_Tech_Survey_2018.csv.csv'"
          ]
        }
      ]
    },
    {
      "cell_type": "code",
      "source": [
        "print(\"In the 2017 DF, the total number of responses were:\", df_2017.shape[0],\".And the number of questions:\",df_2017.shape[1])\n",
        "print(\"In the 2018 DF, the total number of responses were:\", df_2018.shape[0],\".And the number of questions:\",df_2018.shape[1])\n",
        "print(\"In the 2019 DF, the total number of responses were:\", df_2019.shape[0],\".And the number of questions:\",df_2019.shape[1])\n",
        "print(\"In the 2020 DF, the total number of responses were:\", df_2020.shape[0],\".And the number of questions:\",df_2020.shape[1])\n",
        "print(\"In the 2021 DF, the total number of responses were:\", df_2021.shape[0],\".And the number of questions:\",df_2021.shape[1])"
      ],
      "metadata": {
        "id": "0wtp8SYtXBql"
      },
      "execution_count": null,
      "outputs": []
    },
    {
      "cell_type": "code",
      "source": [
        "all_columns_no_filter = df_2017.columns\n",
        "print(all_columns_no_filter)\n"
      ],
      "metadata": {
        "id": "mZIBwzCBazKa"
      },
      "execution_count": null,
      "outputs": []
    },
    {
      "cell_type": "code",
      "source": [
        "df_2017.head()"
      ],
      "metadata": {
        "id": "aPmvot2MbF0P"
      },
      "execution_count": null,
      "outputs": []
    },
    {
      "cell_type": "markdown",
      "source": [
        "#Treating the Data\n",
        "\n",
        "As we are working with a database with a high number of columns (questions), we decided to reduce the number of columns we will work with by selecting only those that appear in the original 5 databases."
      ],
      "metadata": {
        "id": "lCqbzBQQXEQJ"
      }
    },
    {
      "cell_type": "code",
      "source": [
        "# Adding a year tag \n",
        "def add_year_column(df,year):\n",
        "  df['year'] = year"
      ],
      "metadata": {
        "id": "VTvajcslcqh4"
      },
      "execution_count": null,
      "outputs": []
    },
    {
      "cell_type": "code",
      "source": [
        "add_year_column(df_2017,2017)\n",
        "add_year_column(df_2018,2018)\n",
        "add_year_column(df_2019,2019)\n",
        "add_year_column(df_2020,2020)\n",
        "add_year_column(df_2021,2021)"
      ],
      "metadata": {
        "id": "Eb-yIKAhdFfs"
      },
      "execution_count": null,
      "outputs": []
    },
    {
      "cell_type": "markdown",
      "source": [
        "### Filtering the columns\n",
        "In addition, we apply a second filter to the columns. We are only selecting columns that have a fill above 80%. \n",
        "\n",
        "Some columns are the same for all databases, but have different tokens in each database. To deal with this, we had to remove these markers."
      ],
      "metadata": {
        "id": "jJOTbhwLXuDo"
      }
    },
    {
      "cell_type": "code",
      "source": [
        "# Only columns with 80% filled answers are valid\n",
        "def filter_columns(df, p=0.2):\n",
        "  valid_columns = df.isna().sum() <= p * df.shape[0] \n",
        "  return df.loc[:,valid_columns]"
      ],
      "metadata": {
        "id": "zbYt1tIWjGqi"
      },
      "execution_count": null,
      "outputs": []
    },
    {
      "cell_type": "code",
      "source": [
        "df_2017 = filter_columns(df_2017)\n",
        "df_2018 = filter_columns(df_2018)\n",
        "df_2019 = filter_columns(df_2019)\n",
        "df_2020 = filter_columns(df_2020)\n",
        "df_2021 = filter_columns(df_2021)"
      ],
      "metadata": {
        "id": "v5S3IL9djWlx"
      },
      "execution_count": null,
      "outputs": []
    },
    {
      "cell_type": "code",
      "source": [
        "def correct_columns_names(df, rToken, sToken):\n",
        "  df.columns = df.columns.str.replace(rToken, sToken)"
      ],
      "metadata": {
        "id": "yLaRwe6UOcqh"
      },
      "execution_count": null,
      "outputs": []
    },
    {
      "cell_type": "code",
      "source": [
        "#arrumar as perguntas\n",
        "correct_columns_names(df_2017, '*', '')\n",
        "correct_columns_names(df_2017, '<strong>', '')\n",
        "correct_columns_names(df_2017, '</strong>', '')\n",
        "\n",
        "correct_columns_names(df_2018, '*', '')\n",
        "correct_columns_names(df_2018, '<strong>', '')\n",
        "correct_columns_names(df_2018, '</strong>', '')\n",
        "\n",
        "correct_columns_names(df_2019, '*', '')\n",
        "correct_columns_names(df_2019, '<strong>', '')\n",
        "correct_columns_names(df_2019, '</strong>', '')\n",
        "\n",
        "correct_columns_names(df_2020, '*', '')\n",
        "correct_columns_names(df_2020, '<strong>', '')\n",
        "correct_columns_names(df_2020, '</strong>', '')\n",
        "\n",
        "correct_columns_names(df_2021, '*', '')\n",
        "correct_columns_names(df_2021, '<strong>', '')\n",
        "correct_columns_names(df_2021, '</strong>', '')"
      ],
      "metadata": {
        "id": "AQWnQHdzLbGo"
      },
      "execution_count": null,
      "outputs": []
    },
    {
      "cell_type": "markdown",
      "source": [
        "After all this process, we reduced the number of columns in our databases to 33.\n",
        "\n",
        "\n"
      ],
      "metadata": {
        "id": "JPUCQxwPZSiu"
      }
    },
    {
      "cell_type": "code",
      "source": [
        "commun_columns = df_2017.columns.intersection(df_2018.columns)\n",
        "commun_columns = df_2019.columns.intersection(commun_columns)\n",
        "commun_columns = df_2020.columns.intersection(commun_columns)\n",
        "commun_columns = df_2021.columns.intersection(commun_columns)\n",
        "len(commun_columns)"
      ],
      "metadata": {
        "id": "x__85GXXxbmC"
      },
      "execution_count": null,
      "outputs": []
    },
    {
      "cell_type": "markdown",
      "source": [
        "###Merging the data frames\n",
        "\n",
        "We will deal with two data frames, one pre-pandemic (***pre_df***) and one during the pandemic (**during_df**)."
      ],
      "metadata": {
        "id": "9tkxG0sHyrPO"
      }
    },
    {
      "cell_type": "code",
      "source": [
        "pre_df = pd.concat([df_2017[commun_columns], df_2018[commun_columns]])\n",
        "pre_df = pd.concat([pre_df, df_2019[commun_columns]])\n",
        "during_df = pd.concat([df_2020[commun_columns], df_2021[commun_columns]])"
      ],
      "metadata": {
        "id": "oIKW2Rk6zY41"
      },
      "execution_count": null,
      "outputs": []
    },
    {
      "cell_type": "code",
      "source": [
        "pre_df.info()"
      ],
      "metadata": {
        "id": "Jc5qFG9bZxzi"
      },
      "execution_count": null,
      "outputs": []
    },
    {
      "cell_type": "code",
      "source": [
        "during_df.info()"
      ],
      "metadata": {
        "id": "sz33j9S2Z2aq"
      },
      "execution_count": null,
      "outputs": []
    },
    {
      "cell_type": "markdown",
      "source": [
        "#Exploratory Analysis\n"
      ],
      "metadata": {
        "id": "-_xGBpN3ZoGZ"
      }
    },
    {
      "cell_type": "markdown",
      "source": [
        "###Viewing our Data"
      ],
      "metadata": {
        "id": "P218Od_6kpzr"
      }
    },
    {
      "cell_type": "code",
      "source": [
        "print(pre_df.shape)\n",
        "pre_df.head()\n",
        "\n"
      ],
      "metadata": {
        "id": "STYbkvAAeI1z"
      },
      "execution_count": null,
      "outputs": []
    },
    {
      "cell_type": "code",
      "source": [
        "print(during_df.shape)\n",
        "during_df.head()\n"
      ],
      "metadata": {
        "id": "ao00BgM_lDIn"
      },
      "execution_count": null,
      "outputs": []
    },
    {
      "cell_type": "code",
      "source": [
        "pre_df.columns"
      ],
      "metadata": {
        "id": "VaXFJmMUltag"
      },
      "execution_count": null,
      "outputs": []
    },
    {
      "cell_type": "markdown",
      "source": [
        "## First observations"
      ],
      "metadata": {
        "id": "NPJzSFMzasCe"
      }
    },
    {
      "cell_type": "markdown",
      "source": [
        "**Total age distribution**"
      ],
      "metadata": {
        "id": "1mKL0Ic8Ordp"
      }
    },
    {
      "cell_type": "code",
      "source": [
        "# Concatenating the 'What is your age?' columns from pre-pandemic and during-pandemic dataframes\n",
        "age_data = pd.concat([pre_df['What is your age?'], during_df['What is your age?']])\n",
        "\n",
        "# Converting age data to numeric values (assuming it contains numerical values)\n",
        "age_data = pd.to_numeric(age_data, errors='coerce')\n",
        "\n",
        "# Removing missing or invalid values\n",
        "age_data = age_data.dropna()\n",
        "\n",
        "# Filtering ages over or equal to 18\n",
        "age_data = age_data[age_data >= 18]\n",
        "\n",
        "# Defining the range of values with intervals of 10\n",
        "bin_range = np.arange(0, min(age_data.max(), 100) + 5, 5)\n",
        "\n",
        "# Plotting the histogram\n",
        "plt.figure(figsize=(8, 4))\n",
        "plt.hist(age_data, bins=bin_range, edgecolor='black')\n",
        "plt.xlabel('Age')\n",
        "plt.ylabel('Count')\n",
        "plt.title('Total Age Distribution')\n",
        "plt.xticks(bin_range)\n",
        "plt.show()\n"
      ],
      "metadata": {
        "id": "wx8HQfneK1oW"
      },
      "execution_count": null,
      "outputs": []
    },
    {
      "cell_type": "markdown",
      "source": [
        "**Age distribution by period**"
      ],
      "metadata": {
        "id": "7OUu6C8Whcxy"
      }
    },
    {
      "cell_type": "code",
      "source": [
        "# Extracting the 'What is your age?' column from the pre-pandemic dataframe and from the during-pandemic dataframe\n",
        "age_data_pre = pre_df['What is your age?']\n",
        "age_data_dur = during_df['What is your age?']\n",
        "\n",
        "# Converting age data to numeric values (assuming it contains numerical values)\n",
        "age_data_pre = pd.to_numeric(age_data_pre, errors='coerce')\n",
        "age_data_dur = pd.to_numeric(age_data_dur, errors='coerce')\n",
        "\n",
        "# Removing missing or invalid values\n",
        "age_data_pre = age_data_pre.dropna()\n",
        "age_data_dur = age_data_dur.dropna()\n",
        "\n",
        "# Filtering ages over or equal to 18\n",
        "age_data_pre = age_data_pre[age_data_pre >= 18]\n",
        "age_data_dur = age_data_dur[age_data_dur >= 18]\n",
        "\n",
        "# Defining the range of values with intervals of 10\n",
        "bin_range = np.arange(0, min(age_data_pre.max(), age_data_dur.max(), 100) + 5, 5)\n",
        "\n",
        "# Creating subplots\n",
        "fig, axes = plt.subplots(1, 2, figsize=(12, 4))\n",
        "\n",
        "# Plotting the histogram for pre-pandemic period\n",
        "axes[0].hist(age_data_pre, bins=bin_range, edgecolor='black', color='salmon')\n",
        "axes[0].set_xlabel('Age')\n",
        "axes[0].set_ylabel('Count')\n",
        "axes[0].set_title('Pre-Pandemic Age Distribution')\n",
        "axes[0].set_xticks(bin_range)\n",
        "\n",
        "# Plotting the histogram for during-pandemic period\n",
        "axes[1].hist(age_data_dur, bins=bin_range, edgecolor='black', color='salmon')\n",
        "axes[1].set_xlabel('Age')\n",
        "axes[1].set_ylabel('Count')\n",
        "axes[1].set_title('During-Pandemic Age Distribution')\n",
        "axes[1].set_xticks(bin_range)\n",
        "\n",
        "# Adjusting spacing between subplots\n",
        "plt.tight_layout()\n",
        "\n",
        "# Displaying the plot\n",
        "plt.show()\n",
        "\n"
      ],
      "metadata": {
        "id": "31ghMrb-gYuq"
      },
      "execution_count": null,
      "outputs": []
    },
    {
      "cell_type": "markdown",
      "source": [
        "### --------"
      ],
      "metadata": {
        "id": "KiQV0J14btby"
      }
    },
    {
      "cell_type": "code",
      "source": [
        "# Selecting the 'Do you currently have a mental health disorder?' and 'year' columns from the pre_df DataFrame\n",
        "tmp = pre_df[['Do you currently have a mental health disorder?', 'year']]\n",
        "\n",
        "# Grouping the data by 'year' and counting the occurrences of each answer for 'Do you currently have a mental health disorder?'\n",
        "# Calculating the percentage of each answer using normalize=True\n",
        "pre_mental_health = tmp.groupby('year')['Do you currently have a mental health disorder?'].value_counts(normalize=True).unstack()\n",
        "\n",
        "# Creating a bar plot using the pre_mental_health DataFrame\n",
        "pre_mental_health.plot(kind='bar')\n",
        "\n",
        "# Setting the title and labels for the plot\n",
        "plt.title('Do you currently have a mental health disorder?')\n",
        "plt.ylabel('Percent')\n",
        "plt.legend(title='Answer', loc='upper left')\n",
        "\n",
        "# Setting the figure size\n",
        "plt.figure(figsize=(150, 150))\n"
      ],
      "metadata": {
        "id": "DISntNKSqKmZ"
      },
      "execution_count": null,
      "outputs": []
    },
    {
      "cell_type": "code",
      "source": [
        "# Selecting the 'Do you currently have a mental health disorder?' and 'year' columns from the during_df DataFrame\n",
        "tmp = during_df[['Do you currently have a mental health disorder?', 'year']]\n",
        "\n",
        "# Grouping the data by 'year' and counting the occurrences of each answer for 'Do you currently have a mental health disorder?'\n",
        "# Calculating the percentage of each answer using normalize=True\n",
        "dur_mental_health = tmp.groupby('year' )['Do you currently have a mental health disorder?'].value_counts(normalize=True).unstack()\n",
        "dur_mental_health.plot(kind='bar')\n",
        "\n",
        "# Setting the title, labels and size of the plot\n",
        "plt.title('Do you currently have a mental health disorder?')\n",
        "plt.ylabel('Percent')\n",
        "plt.legend(title='Answer', loc='upper left')\n",
        "plt.figure(figsize=(150, 150))"
      ],
      "metadata": {
        "id": "DFAXc8gQuJqJ"
      },
      "execution_count": null,
      "outputs": []
    },
    {
      "cell_type": "code",
      "source": [
        "# Concatenating the pre_mental_health and dur_mental_health DataFrames\n",
        "complete_mental_health = pd.concat([pre_mental_health, dur_mental_health])\n",
        "\n",
        "# Creating a bar plot using the complete_mental_health DataFrame\n",
        "complete_mental_health.plot(kind='bar')\n",
        "\n",
        "# Setting the title, labels and size of the plot\n",
        "plt.title('Do you currently have a mental health disorder?')\n",
        "plt.ylabel('Percent')\n",
        "plt.legend(title='Answer', loc='upper left')\n",
        "plt.figure(figsize=(150, 150))"
      ],
      "metadata": {
        "id": "HFQFTLjpvaI8"
      },
      "execution_count": null,
      "outputs": []
    },
    {
      "cell_type": "markdown",
      "source": [
        "**Total gender distribution**"
      ],
      "metadata": {
        "id": "HrwvPXiSUqyX"
      }
    },
    {
      "cell_type": "code",
      "source": [
        "# Extracting the \"What is your gender?\" column from the data frame\n",
        "gender_data = pd.concat([pre_df['What is your gender?'], during_df['What is your gender?']])\n",
        "\n",
        "# Cleaning and mapping gender values to standard categories\n",
        "gender_data = gender_data.dropna().str.lower().str.strip()\n",
        "gender_data = gender_data.replace(['female', 'f', 'woman', 'cis woman'], 'Female')\n",
        "gender_data = gender_data.replace(['male', 'm', 'man', 'cis man'], 'Male')\n",
        "\n",
        "# Counting the occurrences of each gender category\n",
        "gender_counts = gender_data.value_counts()\n",
        "\n",
        "# Determining the threshold for grouping other genders\n",
        "threshold = 0.01      # Any gender category with an occurrence \n",
        "                      # below this threshold will be grouped \n",
        "                      # into the 'Other' category.\n",
        "\n",
        "# Grouping other genders with low occurrence into 'Other' category\n",
        "other_genders = gender_counts[gender_counts < threshold * gender_data.shape[0]].index\n",
        "gender_counts['Other'] = gender_counts[other_genders].sum()\n",
        "gender_counts = gender_counts.drop(other_genders)\n",
        "\n",
        "# Plotting the pie chart\n",
        "labels = ['Male', 'Female', 'Other']\n",
        "plt.figure(figsize=(4, 4))\n",
        "plt.pie(gender_counts, labels=gender_counts.index, autopct='%1.1f%%')\n",
        "plt.title('Total Gender Distribution')\n",
        "plt.axis('equal')\n",
        "plt.legend(labels, loc=\"upper right\")\n",
        "plt.show()"
      ],
      "metadata": {
        "id": "oo-ElE7kTEYc"
      },
      "execution_count": null,
      "outputs": []
    },
    {
      "cell_type": "markdown",
      "source": [
        "**Gender distribution by period**"
      ],
      "metadata": {
        "id": "eLwNEGfJb2CN"
      }
    },
    {
      "cell_type": "code",
      "source": [
        "# Extracting the \"What is your gender?\" column from the data frame for pre-pandemic and during-pandemic periods\n",
        "pre_gender_data = pre_df['What is your gender?']\n",
        "during_gender_data = during_df['What is your gender?']\n",
        "\n",
        "# Cleaning and mapping gender values to standard categories for pre-pandemic and during-pandemic periods\n",
        "pre_gender_data = pre_gender_data.dropna().str.lower().str.strip()\n",
        "pre_gender_data = pre_gender_data.replace(['female', 'f', 'woman', 'cis woman'], 'Female')\n",
        "pre_gender_data = pre_gender_data.replace(['male', 'm', 'man', 'cis man'], 'Male')\n",
        "\n",
        "during_gender_data = during_gender_data.dropna().str.lower().str.strip()\n",
        "during_gender_data = during_gender_data.replace(['female', 'f', 'woman', 'cis woman'], 'Female')\n",
        "during_gender_data = during_gender_data.replace(['male', 'm', 'man', 'cis man'], 'Male')\n",
        "\n",
        "# Grouping the gender data by period and counting the occurrences of each gender category\n",
        "pre_gender_counts = pre_gender_data.value_counts()\n",
        "during_gender_counts = during_gender_data.value_counts()\n",
        "\n",
        "# Determining the threshold for grouping other genders\n",
        "threshold = 0.01  \n",
        "\n",
        "# Grouping other genders with low occurrence into 'Other' category for pre-pandemic period\n",
        "pre_other_genders = pre_gender_counts[pre_gender_counts < threshold * pre_gender_data.shape[0]].index\n",
        "pre_gender_counts['Other'] = pre_gender_counts[pre_other_genders].sum()\n",
        "pre_gender_counts = pre_gender_counts.drop(pre_other_genders)\n",
        "\n",
        "# Grouping other genders with low occurrence into 'Other' category for during-pandemic period\n",
        "during_other_genders = during_gender_counts[during_gender_counts < threshold * during_gender_data.shape[0]].index\n",
        "during_gender_counts['Other'] = during_gender_counts[during_other_genders].sum()\n",
        "during_gender_counts = during_gender_counts.drop(during_other_genders)\n",
        "\n",
        "labels = ['Male', 'Female', 'Other']\n",
        "\n",
        "fig, axs = plt.subplots(2, 2, figsize=(8,8))\n",
        "\n",
        "# Plotting the pie chart for pre-pandemic period\n",
        "axs[0, 0].pie(pre_gender_counts, labels=pre_gender_counts.index, autopct='%1.1f%%',  colors=['salmon', 'gold', 'lightsteelblue'])\n",
        "axs[0,0].set_title('Gender Distribution - Pre-Pandemic')\n",
        "axs[0,0].axis('equal')\n",
        "axs[0,0].legend(labels, loc=\"upper right\")\n",
        "\n",
        "\n",
        "axs[0,1].bar(labels, pre_gender_counts, label=pre_gender_counts.index, color = ['salmon', 'gold', 'lightsteelblue'])\n",
        "axs[0,1].legend(loc='upper right')\n",
        "\n",
        "\n",
        "# Plot the pie chart for during-pandemic period\n",
        "axs[1,0].pie(during_gender_counts, labels=during_gender_counts.index, autopct='%1.1f%%', colors=['salmon', 'gold', 'lightsteelblue'])\n",
        "axs[1,0].set_title('Gender Distribution - During Pandemic')\n",
        "axs[1,0].axis('equal')\n",
        "axs[1,0].legend(labels, loc=\"upper right\")\n",
        "\n",
        "axs[1,1].bar(labels, during_gender_counts, label=during_gender_counts.index, color = ['salmon', 'gold', 'lightsteelblue'])\n",
        "axs[1,1].legend(loc='upper right')\n",
        "\n",
        "plt.subplots_adjust(left=0.1, right=0.9, bottom=1.8, top=2, wspace=0.3, hspace=0.3)\n",
        "plt.tight_layout()\n",
        "plt.show()"
      ],
      "metadata": {
        "id": "HyvakZYMbjbt"
      },
      "execution_count": null,
      "outputs": []
    }
  ]
}